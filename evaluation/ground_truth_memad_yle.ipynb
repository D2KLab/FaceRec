{
 "cells": [
  {
   "cell_type": "markdown",
   "metadata": {},
   "source": [
    "FaceRec Evaluation 3: MeMAD - YLE Dataset\n",
    "====================================\n",
    "\n",
    "\n",
    "#### NOT COMPLETED\n",
    "\n",
    "This notebook serves as evaluation for the face recognition system.\n",
    "\n",
    "It contains the code for 1. **create a ground truth** and 2. **test the system on it**."
   ]
  },
  {
   "cell_type": "code",
   "execution_count": 1,
   "metadata": {
    "pycharm": {
     "is_executing": true
    }
   },
   "outputs": [],
   "source": [
    "import os\n",
    "import sys\n",
    "sys.path.insert(0, os.path.abspath('../'))\n",
    "\n",
    "import re\n",
    "from tqdm.notebook import tqdm\n",
    "import numpy as np\n",
    "import pandas as pd\n",
    "from SPARQLWrapper import SPARQLWrapper, JSON\n",
    "from frame_collector import FrameCollector\n",
    "from src.utils.media_fragment import convert_to_seconds_npt\n",
    "from src.connectors import memad_connector as memad\n",
    "from src.connectors import limecraft_connector as limecraft"
   ]
  },
  {
   "cell_type": "markdown",
   "metadata": {},
   "source": [
    "## Part 1: Create a Ground Truth\n",
    "\n",
    "The [MeMAD Knowledge Graph](http://data.memad.eu) contains information about the presence of people in particular video segments.\n",
    "\n",
    "The following cells retrieve the 6 people with the highest number of appearence, for then collecting all segments (+ media uri and start/end time) involving them.\n",
    "\n",
    "For clarity, we will call _media_ an entire video resource (e.g. a mpeg4 file), while with _segment_ a temporal fragment of variable length, to not be confused with _shots_. See definitions of MediaResource and Part in the [ebucore ontology](https://www.ebu.ch/metadata/ontologies/ebucore/)"
   ]
  },
  {
   "cell_type": "markdown",
   "metadata": {},
   "source": [
    "Problem: Yle has no parts"
   ]
  },
  {
   "cell_type": "code",
   "execution_count": null,
   "metadata": {},
   "outputs": [],
   "source": [
    "ENDPOINT = \"http://data.memad.eu/sparql-endpoint\"\n",
    "sparql = SPARQLWrapper(ENDPOINT)\n",
    "sparql.setReturnFormat(JSON)"
   ]
  },
  {
   "cell_type": "code",
   "execution_count": 89,
   "metadata": {},
   "outputs": [
    {
     "data": {
      "text/html": [
       "<div>\n",
       "<style scoped>\n",
       "    .dataframe tbody tr th:only-of-type {\n",
       "        vertical-align: middle;\n",
       "    }\n",
       "\n",
       "    .dataframe tbody tr th {\n",
       "        vertical-align: top;\n",
       "    }\n",
       "\n",
       "    .dataframe thead th {\n",
       "        text-align: right;\n",
       "    }\n",
       "</style>\n",
       "<table border=\"1\" class=\"dataframe\">\n",
       "  <thead>\n",
       "    <tr style=\"text-align: right;\">\n",
       "      <th></th>\n",
       "      <th>c</th>\n",
       "      <th>label</th>\n",
       "      <th>nb</th>\n",
       "    </tr>\n",
       "  </thead>\n",
       "  <tbody>\n",
       "    <tr>\n",
       "      <th>0</th>\n",
       "      <td>http://data.memad.eu/agent/esa-saari</td>\n",
       "      <td>Esa Saari</td>\n",
       "      <td>94</td>\n",
       "    </tr>\n",
       "    <tr>\n",
       "      <th>1</th>\n",
       "      <td>http://data.memad.eu/agent/johan-hellman</td>\n",
       "      <td>Johan Hellman</td>\n",
       "      <td>90</td>\n",
       "    </tr>\n",
       "    <tr>\n",
       "      <th>2</th>\n",
       "      <td>http://data.memad.eu/agent/birgitta-norrgard</td>\n",
       "      <td>Birgitta Norrgård</td>\n",
       "      <td>89</td>\n",
       "    </tr>\n",
       "    <tr>\n",
       "      <th>3</th>\n",
       "      <td>http://data.memad.eu/agent/dani-stromback</td>\n",
       "      <td>Dani Strömbäck</td>\n",
       "      <td>88</td>\n",
       "    </tr>\n",
       "    <tr>\n",
       "      <th>4</th>\n",
       "      <td>http://data.memad.eu/agent/jussi-pernaa</td>\n",
       "      <td>Jussi Pernaa</td>\n",
       "      <td>85</td>\n",
       "    </tr>\n",
       "    <tr>\n",
       "      <th>...</th>\n",
       "      <td>...</td>\n",
       "      <td>...</td>\n",
       "      <td>...</td>\n",
       "    </tr>\n",
       "    <tr>\n",
       "      <th>1867</th>\n",
       "      <td>http://data.memad.eu/agent/riittasisko-jukkala...</td>\n",
       "      <td>Riittasisko Jukkala-Benisch</td>\n",
       "      <td>1</td>\n",
       "    </tr>\n",
       "    <tr>\n",
       "      <th>1868</th>\n",
       "      <td>http://data.memad.eu/agent/gunnbritt-estlander</td>\n",
       "      <td>Gunnbritt Estlander</td>\n",
       "      <td>1</td>\n",
       "    </tr>\n",
       "    <tr>\n",
       "      <th>1869</th>\n",
       "      <td>http://data.memad.eu/agent/reijo-leskinen</td>\n",
       "      <td>Reijo Leskinen</td>\n",
       "      <td>1</td>\n",
       "    </tr>\n",
       "    <tr>\n",
       "      <th>1870</th>\n",
       "      <td>http://data.memad.eu/agent/mohammed-ibrahim</td>\n",
       "      <td>Mohammed Ibrahim</td>\n",
       "      <td>1</td>\n",
       "    </tr>\n",
       "    <tr>\n",
       "      <th>1871</th>\n",
       "      <td>http://data.memad.eu/agent/ari-nykvist</td>\n",
       "      <td>Ari Nykvist</td>\n",
       "      <td>1</td>\n",
       "    </tr>\n",
       "  </tbody>\n",
       "</table>\n",
       "<p>1872 rows × 3 columns</p>\n",
       "</div>"
      ],
      "text/plain": [
       "                                                      c  \\\n",
       "0                  http://data.memad.eu/agent/esa-saari   \n",
       "1              http://data.memad.eu/agent/johan-hellman   \n",
       "2          http://data.memad.eu/agent/birgitta-norrgard   \n",
       "3             http://data.memad.eu/agent/dani-stromback   \n",
       "4               http://data.memad.eu/agent/jussi-pernaa   \n",
       "...                                                 ...   \n",
       "1867  http://data.memad.eu/agent/riittasisko-jukkala...   \n",
       "1868     http://data.memad.eu/agent/gunnbritt-estlander   \n",
       "1869          http://data.memad.eu/agent/reijo-leskinen   \n",
       "1870        http://data.memad.eu/agent/mohammed-ibrahim   \n",
       "1871             http://data.memad.eu/agent/ari-nykvist   \n",
       "\n",
       "                            label  nb  \n",
       "0                       Esa Saari  94  \n",
       "1                   Johan Hellman  90  \n",
       "2               Birgitta Norrgård  89  \n",
       "3                  Dani Strömbäck  88  \n",
       "4                    Jussi Pernaa  85  \n",
       "...                           ...  ..  \n",
       "1867  Riittasisko Jukkala-Benisch   1  \n",
       "1868          Gunnbritt Estlander   1  \n",
       "1869               Reijo Leskinen   1  \n",
       "1870             Mohammed Ibrahim   1  \n",
       "1871                  Ari Nykvist   1  \n",
       "\n",
       "[1872 rows x 3 columns]"
      ]
     },
     "execution_count": 89,
     "metadata": {},
     "output_type": "execute_result"
    }
   ],
   "source": [
    "with open('memad_people.rq') as file:\n",
    "    query = file.read()\n",
    "\n",
    "sparql.setQuery(query)\n",
    "people = sparql.query().convert()[\"results\"][\"bindings\"]\n",
    "for x in people:\n",
    "    for k in x:\n",
    "        x[k] = x[k]['value']\n",
    "df_people = pd.DataFrame.from_dict(people)\n",
    "df_people['nb'] = df_people['nb'].apply(pd.to_numeric)\n",
    "df_people"
   ]
  },
  {
   "cell_type": "markdown",
   "metadata": {},
   "source": [
    "Select top 10 celebrities"
   ]
  },
  {
   "cell_type": "code",
   "execution_count": 90,
   "metadata": {
    "pycharm": {
     "name": "#%%\n"
    }
   },
   "outputs": [
    {
     "data": {
      "text/plain": [
       "[('http://data.memad.eu/agent/esa-saari', 'Esa Saari'),\n",
       " ('http://data.memad.eu/agent/johan-hellman', 'Johan Hellman'),\n",
       " ('http://data.memad.eu/agent/birgitta-norrgard', 'Birgitta Norrgård'),\n",
       " ('http://data.memad.eu/agent/dani-stromback', 'Dani Strömbäck'),\n",
       " ('http://data.memad.eu/agent/jussi-pernaa', 'Jussi Pernaa'),\n",
       " ('http://data.memad.eu/agent/camilla-boije', 'Camilla Boije'),\n",
       " ('http://data.memad.eu/agent/ann-helen-pafs-streng', 'Ann-Helen Påfs-Streng'),\n",
       " ('http://data.memad.eu/agent/camilla-forsen-strom', 'Camilla Forsén-Ström'),\n",
       " ('http://data.memad.eu/agent/christina-staffans', 'Christina Staffans'),\n",
       " ('http://data.memad.eu/agent/antti-kuusiniemi', 'Antti Kuusiniemi')]"
      ]
     },
     "execution_count": 90,
     "metadata": {},
     "output_type": "execute_result"
    }
   ],
   "source": [
    "people_uri = []\n",
    "people_labels = []\n",
    "iterator = df_people.itertuples()\n",
    "while len(people_uri) < 10:\n",
    "    p = next(iterator)\n",
    "    if p.c not in people_uri:\n",
    "        people_uri.append(p.c)\n",
    "        people_labels.append(p.label)\n",
    "list(zip(people_uri, people_labels))"
   ]
  },
  {
   "cell_type": "code",
   "execution_count": 101,
   "metadata": {},
   "outputs": [
    {
     "name": "stdout",
     "output_type": "stream",
     "text": [
      "Num. results per person:\n"
     ]
    },
    {
     "data": {
      "application/vnd.jupyter.widget-view+json": {
       "model_id": "cef0059d28984551b8e925f239c30639",
       "version_major": 2,
       "version_minor": 0
      },
      "text/plain": [
       "HBox(children=(FloatProgress(value=0.0, max=10.0), HTML(value='')))"
      ]
     },
     "metadata": {},
     "output_type": "display_data"
    },
    {
     "name": "stdout",
     "output_type": "stream",
     "text": [
      "- Esa Saari                \t1181\n",
      "- Johan Hellman            \t857\n",
      "- Birgitta Norrgård        \t1133\n",
      "- Dani Strömbäck           \t1162\n",
      "- Jussi Pernaa             \t1128\n",
      "- Camilla Boije            \t1040\n",
      "- Ann-Helen Påfs-Streng    \t1010\n",
      "- Camilla Forsén-Ström     \t917\n",
      "- Christina Staffans       \t838\n",
      "- Antti Kuusiniemi         \t735\n",
      "\n"
     ]
    },
    {
     "data": {
      "text/html": [
       "<div>\n",
       "<style scoped>\n",
       "    .dataframe tbody tr th:only-of-type {\n",
       "        vertical-align: middle;\n",
       "    }\n",
       "\n",
       "    .dataframe tbody tr th {\n",
       "        vertical-align: top;\n",
       "    }\n",
       "\n",
       "    .dataframe thead th {\n",
       "        text-align: right;\n",
       "    }\n",
       "</style>\n",
       "<table border=\"1\" class=\"dataframe\">\n",
       "  <thead>\n",
       "    <tr style=\"text-align: right;\">\n",
       "      <th></th>\n",
       "      <th>p</th>\n",
       "      <th>media</th>\n",
       "      <th>start</th>\n",
       "      <th>end</th>\n",
       "      <th>locator</th>\n",
       "      <th>person</th>\n",
       "      <th>person_uri</th>\n",
       "    </tr>\n",
       "  </thead>\n",
       "  <tbody>\n",
       "    <tr>\n",
       "      <th>0</th>\n",
       "      <td>http://data.memad.eu/yle/stromso/00b0a0042e8b8...</td>\n",
       "      <td>http://data.memad.eu/yle/stromso/26ae6733edf02...</td>\n",
       "      <td>488.48</td>\n",
       "      <td>774.16</td>\n",
       "      <td>https://platform.limecraft.com/api/production/...</td>\n",
       "      <td>Esa Saari</td>\n",
       "      <td>http://data.memad.eu/agent/esa-saari</td>\n",
       "    </tr>\n",
       "    <tr>\n",
       "      <th>1</th>\n",
       "      <td>http://data.memad.eu/yle/stromso/00f87ff8139cc...</td>\n",
       "      <td>http://data.memad.eu/yle/stromso/23a1d83917da5...</td>\n",
       "      <td>50.04</td>\n",
       "      <td>354.84</td>\n",
       "      <td>https://platform.limecraft.com/api/production/...</td>\n",
       "      <td>Esa Saari</td>\n",
       "      <td>http://data.memad.eu/agent/esa-saari</td>\n",
       "    </tr>\n",
       "    <tr>\n",
       "      <th>2</th>\n",
       "      <td>http://data.memad.eu/yle/stromso/00f87ff8139cc...</td>\n",
       "      <td>http://data.memad.eu/yle/stromso/23a1d83917da5...</td>\n",
       "      <td>50.40</td>\n",
       "      <td>354.84</td>\n",
       "      <td>https://platform.limecraft.com/api/production/...</td>\n",
       "      <td>Esa Saari</td>\n",
       "      <td>http://data.memad.eu/agent/esa-saari</td>\n",
       "    </tr>\n",
       "    <tr>\n",
       "      <th>3</th>\n",
       "      <td>http://data.memad.eu/yle/stromso/0205c04830ee2...</td>\n",
       "      <td>http://data.memad.eu/yle/stromso/8cb503afffc02...</td>\n",
       "      <td>1069.76</td>\n",
       "      <td>1176.68</td>\n",
       "      <td>https://platform.limecraft.com/api/production/...</td>\n",
       "      <td>Esa Saari</td>\n",
       "      <td>http://data.memad.eu/agent/esa-saari</td>\n",
       "    </tr>\n",
       "    <tr>\n",
       "      <th>4</th>\n",
       "      <td>http://data.memad.eu/yle/stromso/03047c594882f...</td>\n",
       "      <td>http://data.memad.eu/yle/stromso/28d37798e22e7...</td>\n",
       "      <td>1144.08</td>\n",
       "      <td>1182.84</td>\n",
       "      <td>https://platform.limecraft.com/api/production/...</td>\n",
       "      <td>Esa Saari</td>\n",
       "      <td>http://data.memad.eu/agent/esa-saari</td>\n",
       "    </tr>\n",
       "    <tr>\n",
       "      <th>...</th>\n",
       "      <td>...</td>\n",
       "      <td>...</td>\n",
       "      <td>...</td>\n",
       "      <td>...</td>\n",
       "      <td>...</td>\n",
       "      <td>...</td>\n",
       "      <td>...</td>\n",
       "    </tr>\n",
       "    <tr>\n",
       "      <th>9996</th>\n",
       "      <td>http://data.memad.eu/yle/stromso/f8f71961ab06c...</td>\n",
       "      <td>http://data.memad.eu/yle/stromso/91aabce9c2ca3...</td>\n",
       "      <td>731.16</td>\n",
       "      <td>1172.48</td>\n",
       "      <td>https://platform.limecraft.com/api/production/...</td>\n",
       "      <td>Antti Kuusiniemi</td>\n",
       "      <td>http://data.memad.eu/agent/antti-kuusiniemi</td>\n",
       "    </tr>\n",
       "    <tr>\n",
       "      <th>9997</th>\n",
       "      <td>http://data.memad.eu/yle/stromso/f97b9de60c3cc...</td>\n",
       "      <td>http://data.memad.eu/yle/stromso/556d1b6d332dd...</td>\n",
       "      <td>90.44</td>\n",
       "      <td>107.44</td>\n",
       "      <td>https://platform.limecraft.com/api/production/...</td>\n",
       "      <td>Antti Kuusiniemi</td>\n",
       "      <td>http://data.memad.eu/agent/antti-kuusiniemi</td>\n",
       "    </tr>\n",
       "    <tr>\n",
       "      <th>9998</th>\n",
       "      <td>http://data.memad.eu/yle/stromso/fd3f4b21faa27...</td>\n",
       "      <td>http://data.memad.eu/yle/stromso/8441af411cc43...</td>\n",
       "      <td>1677.36</td>\n",
       "      <td>1790.12</td>\n",
       "      <td>https://platform.limecraft.com/api/production/...</td>\n",
       "      <td>Antti Kuusiniemi</td>\n",
       "      <td>http://data.memad.eu/agent/antti-kuusiniemi</td>\n",
       "    </tr>\n",
       "    <tr>\n",
       "      <th>9999</th>\n",
       "      <td>http://data.memad.eu/yle/stromso/fe709b76e9dba...</td>\n",
       "      <td>http://data.memad.eu/yle/stromso/6a40aaf8b7b1e...</td>\n",
       "      <td>46.76</td>\n",
       "      <td>90.88</td>\n",
       "      <td>https://platform.limecraft.com/api/production/...</td>\n",
       "      <td>Antti Kuusiniemi</td>\n",
       "      <td>http://data.memad.eu/agent/antti-kuusiniemi</td>\n",
       "    </tr>\n",
       "    <tr>\n",
       "      <th>10000</th>\n",
       "      <td>http://data.memad.eu/yle/stromso/ffcce977cd945...</td>\n",
       "      <td>http://data.memad.eu/yle/stromso/b5f8eb999ff62...</td>\n",
       "      <td>236.64</td>\n",
       "      <td>469.00</td>\n",
       "      <td>https://platform.limecraft.com/api/production/...</td>\n",
       "      <td>Antti Kuusiniemi</td>\n",
       "      <td>http://data.memad.eu/agent/antti-kuusiniemi</td>\n",
       "    </tr>\n",
       "  </tbody>\n",
       "</table>\n",
       "<p>10001 rows × 7 columns</p>\n",
       "</div>"
      ],
      "text/plain": [
       "                                                       p  \\\n",
       "0      http://data.memad.eu/yle/stromso/00b0a0042e8b8...   \n",
       "1      http://data.memad.eu/yle/stromso/00f87ff8139cc...   \n",
       "2      http://data.memad.eu/yle/stromso/00f87ff8139cc...   \n",
       "3      http://data.memad.eu/yle/stromso/0205c04830ee2...   \n",
       "4      http://data.memad.eu/yle/stromso/03047c594882f...   \n",
       "...                                                  ...   \n",
       "9996   http://data.memad.eu/yle/stromso/f8f71961ab06c...   \n",
       "9997   http://data.memad.eu/yle/stromso/f97b9de60c3cc...   \n",
       "9998   http://data.memad.eu/yle/stromso/fd3f4b21faa27...   \n",
       "9999   http://data.memad.eu/yle/stromso/fe709b76e9dba...   \n",
       "10000  http://data.memad.eu/yle/stromso/ffcce977cd945...   \n",
       "\n",
       "                                                   media    start      end  \\\n",
       "0      http://data.memad.eu/yle/stromso/26ae6733edf02...   488.48   774.16   \n",
       "1      http://data.memad.eu/yle/stromso/23a1d83917da5...    50.04   354.84   \n",
       "2      http://data.memad.eu/yle/stromso/23a1d83917da5...    50.40   354.84   \n",
       "3      http://data.memad.eu/yle/stromso/8cb503afffc02...  1069.76  1176.68   \n",
       "4      http://data.memad.eu/yle/stromso/28d37798e22e7...  1144.08  1182.84   \n",
       "...                                                  ...      ...      ...   \n",
       "9996   http://data.memad.eu/yle/stromso/91aabce9c2ca3...   731.16  1172.48   \n",
       "9997   http://data.memad.eu/yle/stromso/556d1b6d332dd...    90.44   107.44   \n",
       "9998   http://data.memad.eu/yle/stromso/8441af411cc43...  1677.36  1790.12   \n",
       "9999   http://data.memad.eu/yle/stromso/6a40aaf8b7b1e...    46.76    90.88   \n",
       "10000  http://data.memad.eu/yle/stromso/b5f8eb999ff62...   236.64   469.00   \n",
       "\n",
       "                                                 locator            person  \\\n",
       "0      https://platform.limecraft.com/api/production/...         Esa Saari   \n",
       "1      https://platform.limecraft.com/api/production/...         Esa Saari   \n",
       "2      https://platform.limecraft.com/api/production/...         Esa Saari   \n",
       "3      https://platform.limecraft.com/api/production/...         Esa Saari   \n",
       "4      https://platform.limecraft.com/api/production/...         Esa Saari   \n",
       "...                                                  ...               ...   \n",
       "9996   https://platform.limecraft.com/api/production/...  Antti Kuusiniemi   \n",
       "9997   https://platform.limecraft.com/api/production/...  Antti Kuusiniemi   \n",
       "9998   https://platform.limecraft.com/api/production/...  Antti Kuusiniemi   \n",
       "9999   https://platform.limecraft.com/api/production/...  Antti Kuusiniemi   \n",
       "10000  https://platform.limecraft.com/api/production/...  Antti Kuusiniemi   \n",
       "\n",
       "                                        person_uri  \n",
       "0             http://data.memad.eu/agent/esa-saari  \n",
       "1             http://data.memad.eu/agent/esa-saari  \n",
       "2             http://data.memad.eu/agent/esa-saari  \n",
       "3             http://data.memad.eu/agent/esa-saari  \n",
       "4             http://data.memad.eu/agent/esa-saari  \n",
       "...                                            ...  \n",
       "9996   http://data.memad.eu/agent/antti-kuusiniemi  \n",
       "9997   http://data.memad.eu/agent/antti-kuusiniemi  \n",
       "9998   http://data.memad.eu/agent/antti-kuusiniemi  \n",
       "9999   http://data.memad.eu/agent/antti-kuusiniemi  \n",
       "10000  http://data.memad.eu/agent/antti-kuusiniemi  \n",
       "\n",
       "[10001 rows x 7 columns]"
      ]
     },
     "execution_count": 101,
     "metadata": {},
     "output_type": "execute_result"
    }
   ],
   "source": [
    "with open('memad_program_by_person.rq') as file:\n",
    "    query = file.read()\n",
    "    \n",
    "from src.utils.media_fragment import convert_to_seconds_npt\n",
    "def pad_spaces(text):\n",
    "    pad = 25 - len(text)\n",
    "    return text + ''.join([' ' for _ in range(0,pad)])\n",
    "    \n",
    "def get_segments(person, name):\n",
    "    q = query.replace('?person', '<%s>' % person)\n",
    "    sparql.setQuery(q)\n",
    "    results = sparql.query().convert()[\"results\"][\"bindings\"]\n",
    "    for r in results:\n",
    "        for p in r:\n",
    "            value = r[p]['value']\n",
    "            if p in ['start', 'end']:\n",
    "                value = convert_to_seconds_npt(re.sub(r\"T(\\d{2}:\\d{2}:\\d{2}).+\", \"\\g<1>\", value))\n",
    "            if p == 'prop':\n",
    "                value = re.split(r\"[/#]\", value)[-1]\n",
    "            r[p] = value\n",
    "        r['person'] = name\n",
    "        r['person_uri'] = person\n",
    "    \n",
    "    results = [r for r in results if 'start' in r and r['start'] < r['end']]\n",
    "    print('- %s\\t%s'%(pad_spaces(name), len(results)))\n",
    "    \n",
    "    \n",
    "    return pd.DataFrame.from_dict(results) \n",
    "\n",
    "print('Num. results per person:')\n",
    "df = pd.concat([get_segments(uri, name) \n",
    "                     for uri, name in tqdm(zip(people_uri, people_labels), total=len(people_uri))],\n",
    "               ignore_index=True)\n",
    "df"
   ]
  },
  {
   "cell_type": "code",
   "execution_count": 102,
   "metadata": {},
   "outputs": [
    {
     "data": {
      "text/plain": [
       "http://data.memad.eu/yle/tahtien-ja-tahteiden-parhaat/a9450801b19248dfbc235b8f2819f908fa45cf6e     238\n",
       "http://data.memad.eu/yle/tahtia-ja-tahteita-stromsossa/28652806459206a50db17babad90194c2fb4f464    238\n",
       "http://data.memad.eu/yle/tahtien-ja-tahteiden-parhaat/dc5db53cf1486fead37993cb29c8e5126897b856     238\n",
       "http://data.memad.eu/yle/tahtien-ja-tahteiden-parhaat/b69d5cefe688209591c0c3e8d35e6c4bfff289bd     238\n",
       "http://data.memad.eu/yle/stromso/3d50256d06c83d3f3f23bbfd5d887acf8e7dd5f7                          168\n",
       "                                                                                                  ... \n",
       "http://data.memad.eu/yle/obs-debatt/a8b8ca09fca8354c746e926e82287dc9dbc46278                         2\n",
       "http://data.memad.eu/yle/lautasantennien-takaa/35fa8816d52d629e7a293fc1feedd5f1de701469              2\n",
       "http://data.memad.eu/yle/jalkivaanto/1a242ec8d7f537af5b132acb0fe853cdb0ac964a                        2\n",
       "http://data.memad.eu/yle/obs-debatt/6ef3bbbf11535f6103063a5fad064d200dac0ae8                         2\n",
       "http://data.memad.eu/yle/obs-debatt/1792d1bb261242eb9309a3ce5d8947d4b3d94369                         2\n",
       "Name: media, Length: 207, dtype: int64"
      ]
     },
     "execution_count": 102,
     "metadata": {},
     "output_type": "execute_result"
    }
   ],
   "source": [
    "df['media'].value_counts()"
   ]
  },
  {
   "cell_type": "code",
   "execution_count": 103,
   "metadata": {},
   "outputs": [
    {
     "data": {
      "text/plain": [
       "http://data.memad.eu/yle/stromso/c7fd5e7cb2d525e883c3d2f262a0fd97becd40c6                       36\n",
       "http://data.memad.eu/yle/stromso/46547840ad2d0f25f4a729ae6bb60694596850c6                       36\n",
       "http://data.memad.eu/yle/stromso/f55aedc6c3ab1610fe9c9a2a1a74f996f591b489                       32\n",
       "http://data.memad.eu/yle/stromso/2909d9c5e1a1db711d273892909f14a5f8708fa2                       32\n",
       "http://data.memad.eu/yle/stromso/89070b13a07ba1fb78ea1e1bd410b0a9e6c0a01f                       32\n",
       "                                                                                                ..\n",
       "http://data.memad.eu/yle/euroopasta-olisi-puhuttava/15d23043b4568e2d609a724e3b6f6ea22c271ef9     1\n",
       "http://data.memad.eu/yle/obs-debatt/70b79a9115fa8aded5f60c62e559a56f5a3cc39d                     1\n",
       "http://data.memad.eu/yle/narbild/aeef6b9ec22f9f0d96d0be5fa3f4e12e58c188f3                        1\n",
       "http://data.memad.eu/yle/narbild/7ec389de908ba08afc9d410e93cce3b4ae15edc2                        1\n",
       "http://data.memad.eu/yle/obs-debatt/d653da9a2a4a52f7f316c8175d23314eb9691f01                     1\n",
       "Name: p, Length: 2012, dtype: int64"
      ]
     },
     "execution_count": 103,
     "metadata": {},
     "output_type": "execute_result"
    }
   ],
   "source": [
    "df['p'].value_counts()"
   ]
  },
  {
   "cell_type": "code",
   "execution_count": 104,
   "metadata": {},
   "outputs": [
    {
     "data": {
      "text/plain": [
       "count    10001.000000\n",
       "mean       195.424436\n",
       "std        179.671887\n",
       "min          0.039000\n",
       "25%         49.320000\n",
       "50%        166.800000\n",
       "75%        300.400000\n",
       "max       2344.600000\n",
       "Name: duration, dtype: float64"
      ]
     },
     "execution_count": 104,
     "metadata": {},
     "output_type": "execute_result"
    }
   ],
   "source": [
    "df['duration'] = df['end'] - df['start']\n",
    "df['duration'].describe()"
   ]
  },
  {
   "cell_type": "code",
   "execution_count": 117,
   "metadata": {},
   "outputs": [
    {
     "name": "stdout",
     "output_type": "stream",
     "text": [
      "Subset length: 1294\n"
     ]
    },
    {
     "data": {
      "text/plain": [
       "http://data.memad.eu/agent/dani-stromback           161\n",
       "http://data.memad.eu/agent/jussi-pernaa             158\n",
       "http://data.memad.eu/agent/birgitta-norrgard        150\n",
       "http://data.memad.eu/agent/esa-saari                141\n",
       "http://data.memad.eu/agent/camilla-boije            140\n",
       "http://data.memad.eu/agent/ann-helen-pafs-streng    139\n",
       "http://data.memad.eu/agent/camilla-forsen-strom     110\n",
       "http://data.memad.eu/agent/johan-hellman            103\n",
       "http://data.memad.eu/agent/antti-kuusiniemi          99\n",
       "http://data.memad.eu/agent/christina-staffans        93\n",
       "Name: person_uri, dtype: int64"
      ]
     },
     "execution_count": 117,
     "metadata": {},
     "output_type": "execute_result"
    }
   ],
   "source": [
    "df_subset = df[df['duration'] < 50]\n",
    "df_subset = df_subset[df_subset['duration'] > 20]\n",
    "print('Subset length: %d' %len(df_subset))\n",
    "\n",
    "df_subset['person_uri'].value_counts()"
   ]
  },
  {
   "cell_type": "code",
   "execution_count": 118,
   "metadata": {},
   "outputs": [
    {
     "data": {
      "application/vnd.jupyter.widget-view+json": {
       "model_id": "cf0f9576f79f4fca9a19abb7bab3f1de",
       "version_major": 2,
       "version_minor": 0
      },
      "text/plain": [
       "HBox(children=(FloatProgress(value=0.0, max=1294.0), HTML(value='')))"
      ]
     },
     "metadata": {},
     "output_type": "display_data"
    },
    {
     "name": "stdout",
     "output_type": "stream",
     "text": [
      "\n",
      "\n"
     ]
    },
    {
     "name": "stderr",
     "output_type": "stream",
     "text": [
      "W0727 17:12:18.319859 4529876416 def_function.py:598] 5 out of the last 4882 calls to <function Model.make_predict_function.<locals>.predict_function at 0x14ab2f0e0> triggered tf.function retracing. Tracing is expensive and the excessive number of tracings is likely due to passing python objects instead of tensors. Also, tf.function has experimental_relax_shapes=True option that relaxes argument shapes that can avoid unnecessary retracing. Please refer to https://www.tensorflow.org/tutorials/customization/performance#python_or_tensor_args and https://www.tensorflow.org/api_docs/python/tf/function for more details.\n",
      "W0727 17:12:18.409008 4529876416 def_function.py:598] 6 out of the last 4883 calls to <function Model.make_predict_function.<locals>.predict_function at 0x14ab2f0e0> triggered tf.function retracing. Tracing is expensive and the excessive number of tracings is likely due to passing python objects instead of tensors. Also, tf.function has experimental_relax_shapes=True option that relaxes argument shapes that can avoid unnecessary retracing. Please refer to https://www.tensorflow.org/tutorials/customization/performance#python_or_tensor_args and https://www.tensorflow.org/api_docs/python/tf/function for more details.\n",
      "W0727 17:12:18.496175 4529876416 def_function.py:598] 7 out of the last 4884 calls to <function Model.make_predict_function.<locals>.predict_function at 0x14ab2f0e0> triggered tf.function retracing. Tracing is expensive and the excessive number of tracings is likely due to passing python objects instead of tensors. Also, tf.function has experimental_relax_shapes=True option that relaxes argument shapes that can avoid unnecessary retracing. Please refer to https://www.tensorflow.org/tutorials/customization/performance#python_or_tensor_args and https://www.tensorflow.org/api_docs/python/tf/function for more details.\n",
      "W0727 17:12:18.586672 4529876416 def_function.py:598] 8 out of the last 4885 calls to <function Model.make_predict_function.<locals>.predict_function at 0x14ab2f0e0> triggered tf.function retracing. Tracing is expensive and the excessive number of tracings is likely due to passing python objects instead of tensors. Also, tf.function has experimental_relax_shapes=True option that relaxes argument shapes that can avoid unnecessary retracing. Please refer to https://www.tensorflow.org/tutorials/customization/performance#python_or_tensor_args and https://www.tensorflow.org/api_docs/python/tf/function for more details.\n"
     ]
    },
    {
     "name": "stdout",
     "output_type": "stream",
     "text": [
      "\n"
     ]
    }
   ],
   "source": [
    "from src.connectors import memad_connector as memad\n",
    "from src.connectors import limecraft_connector as limecraft\n",
    "\n",
    "old_loc = ''\n",
    "fc = None\n",
    "\n",
    "df_subset.sort_values(by='media', ascending=False)\n",
    "\n",
    "table = df_subset\n",
    "\n",
    "def ex_frame(row):\n",
    "    global fc\n",
    "    global old_loc\n",
    "    \n",
    "    loc = memad.get_locator_for(row['media'])\n",
    "    if not loc:\n",
    "        print('No loc for: '+ row['media'])\n",
    "        return 0\n",
    "    \n",
    "    loc = limecraft.locator2video(loc['locator']['value'])\n",
    "    if loc != old_loc:\n",
    "        fc = FrameCollector(loc, 'memad_gt2', id=row['media'])\n",
    "        old_loc = loc\n",
    "    \n",
    "    start = row['start']\n",
    "    end = row['end']\n",
    "    duration = end - start\n",
    "    quarter = int(duration / 4)\n",
    "    quarter1 = start + quarter \n",
    "    center = start + quarter * 2\n",
    "    quarter2 = start + quarter * 3\n",
    "    \n",
    "    try:\n",
    "        x = fc.run(frame_no=quarter1)\n",
    "        if x == 0:\n",
    "            x = fc.run(frame_no=center)\n",
    "        if x == 0:\n",
    "            x = fc.run(frame_no=quarter2)\n",
    "        return x\n",
    "    except:\n",
    "        print('Error: ' + loc)\n",
    "        return 0\n",
    "\n",
    "frames = [ex_frame(row) for idx, row in tqdm(table.iterrows(), total=len(table))]"
   ]
  },
  {
   "cell_type": "code",
   "execution_count": 120,
   "metadata": {},
   "outputs": [
    {
     "data": {
      "text/html": [
       "<div>\n",
       "<style scoped>\n",
       "    .dataframe tbody tr th:only-of-type {\n",
       "        vertical-align: middle;\n",
       "    }\n",
       "\n",
       "    .dataframe tbody tr th {\n",
       "        vertical-align: top;\n",
       "    }\n",
       "\n",
       "    .dataframe thead th {\n",
       "        text-align: right;\n",
       "    }\n",
       "</style>\n",
       "<table border=\"1\" class=\"dataframe\">\n",
       "  <thead>\n",
       "    <tr style=\"text-align: right;\">\n",
       "      <th></th>\n",
       "      <th>p</th>\n",
       "      <th>media</th>\n",
       "      <th>start</th>\n",
       "      <th>end</th>\n",
       "      <th>locator</th>\n",
       "      <th>person</th>\n",
       "      <th>person_uri</th>\n",
       "      <th>duration</th>\n",
       "      <th>frame</th>\n",
       "    </tr>\n",
       "  </thead>\n",
       "  <tbody>\n",
       "    <tr>\n",
       "      <th>7</th>\n",
       "      <td>http://data.memad.eu/yle/stromso/16557519a0f8f...</td>\n",
       "      <td>http://data.memad.eu/yle/stromso/849bbd3b5da9c...</td>\n",
       "      <td>991.04</td>\n",
       "      <td>1038.24</td>\n",
       "      <td>https://platform.limecraft.com/api/production/...</td>\n",
       "      <td>Esa Saari</td>\n",
       "      <td>http://data.memad.eu/agent/esa-saari</td>\n",
       "      <td>47.20</td>\n",
       "      <td>./frames/memad_gt2/stromso_849bbd3b5da9c01ca84...</td>\n",
       "    </tr>\n",
       "    <tr>\n",
       "      <th>8</th>\n",
       "      <td>http://data.memad.eu/yle/stromso/16557519a0f8f...</td>\n",
       "      <td>http://data.memad.eu/yle/stromso/849bbd3b5da9c...</td>\n",
       "      <td>991.40</td>\n",
       "      <td>1038.24</td>\n",
       "      <td>https://platform.limecraft.com/api/production/...</td>\n",
       "      <td>Esa Saari</td>\n",
       "      <td>http://data.memad.eu/agent/esa-saari</td>\n",
       "      <td>46.84</td>\n",
       "      <td>./frames/memad_gt2/stromso_849bbd3b5da9c01ca84...</td>\n",
       "    </tr>\n",
       "    <tr>\n",
       "      <th>18</th>\n",
       "      <td>http://data.memad.eu/yle/stromso/48535f899451d...</td>\n",
       "      <td>http://data.memad.eu/yle/stromso/f0eccbac8f793...</td>\n",
       "      <td>1561.56</td>\n",
       "      <td>1589.48</td>\n",
       "      <td>https://platform.limecraft.com/api/production/...</td>\n",
       "      <td>Esa Saari</td>\n",
       "      <td>http://data.memad.eu/agent/esa-saari</td>\n",
       "      <td>27.92</td>\n",
       "      <td>./frames/memad_gt2/stromso_f0eccbac8f79375f0ee...</td>\n",
       "    </tr>\n",
       "    <tr>\n",
       "      <th>29</th>\n",
       "      <td>http://data.memad.eu/yle/stromso/aee84fb386f92...</td>\n",
       "      <td>http://data.memad.eu/yle/stromso/bd5e495a9c696...</td>\n",
       "      <td>761.52</td>\n",
       "      <td>796.76</td>\n",
       "      <td>https://platform.limecraft.com/api/production/...</td>\n",
       "      <td>Esa Saari</td>\n",
       "      <td>http://data.memad.eu/agent/esa-saari</td>\n",
       "      <td>35.24</td>\n",
       "      <td>./frames/memad_gt2/stromso_bd5e495a9c69610ae3a...</td>\n",
       "    </tr>\n",
       "    <tr>\n",
       "      <th>63</th>\n",
       "      <td>http://data.memad.eu/yle/stromso/0c90a724200ed...</td>\n",
       "      <td>http://data.memad.eu/yle/stromso/1dd398f54b09a...</td>\n",
       "      <td>1467.76</td>\n",
       "      <td>1498.76</td>\n",
       "      <td>https://platform.limecraft.com/api/production/...</td>\n",
       "      <td>Esa Saari</td>\n",
       "      <td>http://data.memad.eu/agent/esa-saari</td>\n",
       "      <td>31.00</td>\n",
       "      <td>./frames/memad_gt2/stromso_1dd398f54b09a4cdabf...</td>\n",
       "    </tr>\n",
       "    <tr>\n",
       "      <th>...</th>\n",
       "      <td>...</td>\n",
       "      <td>...</td>\n",
       "      <td>...</td>\n",
       "      <td>...</td>\n",
       "      <td>...</td>\n",
       "      <td>...</td>\n",
       "      <td>...</td>\n",
       "      <td>...</td>\n",
       "      <td>...</td>\n",
       "    </tr>\n",
       "    <tr>\n",
       "      <th>1236</th>\n",
       "      <td>http://data.memad.eu/yle/narbild/02c56f2c358c5...</td>\n",
       "      <td>http://data.memad.eu/yle/narbild/4b6fb8183414b...</td>\n",
       "      <td>1673.32</td>\n",
       "      <td>1706.00</td>\n",
       "      <td>https://platform.limecraft.com/api/production/...</td>\n",
       "      <td>Antti Kuusiniemi</td>\n",
       "      <td>http://data.memad.eu/agent/antti-kuusiniemi</td>\n",
       "      <td>32.68</td>\n",
       "      <td>./frames/memad_gt2/narbild_4b6fb8183414baa9d62...</td>\n",
       "    </tr>\n",
       "    <tr>\n",
       "      <th>1237</th>\n",
       "      <td>http://data.memad.eu/yle/narbild/11dfc167298bf...</td>\n",
       "      <td>http://data.memad.eu/yle/narbild/334eebdbd1aaf...</td>\n",
       "      <td>1517.04</td>\n",
       "      <td>1540.96</td>\n",
       "      <td>https://platform.limecraft.com/api/production/...</td>\n",
       "      <td>Antti Kuusiniemi</td>\n",
       "      <td>http://data.memad.eu/agent/antti-kuusiniemi</td>\n",
       "      <td>23.92</td>\n",
       "      <td>./frames/memad_gt2/narbild_334eebdbd1aaf4b562d...</td>\n",
       "    </tr>\n",
       "    <tr>\n",
       "      <th>1238</th>\n",
       "      <td>http://data.memad.eu/yle/narbild/11dfc167298bf...</td>\n",
       "      <td>http://data.memad.eu/yle/narbild/334eebdbd1aaf...</td>\n",
       "      <td>1517.40</td>\n",
       "      <td>1540.96</td>\n",
       "      <td>https://platform.limecraft.com/api/production/...</td>\n",
       "      <td>Antti Kuusiniemi</td>\n",
       "      <td>http://data.memad.eu/agent/antti-kuusiniemi</td>\n",
       "      <td>23.56</td>\n",
       "      <td>./frames/memad_gt2/narbild_334eebdbd1aaf4b562d...</td>\n",
       "    </tr>\n",
       "    <tr>\n",
       "      <th>1239</th>\n",
       "      <td>http://data.memad.eu/yle/narbild/15f010b5662d4...</td>\n",
       "      <td>http://data.memad.eu/yle/narbild/334eebdbd1aaf...</td>\n",
       "      <td>1692.16</td>\n",
       "      <td>1721.56</td>\n",
       "      <td>https://platform.limecraft.com/api/production/...</td>\n",
       "      <td>Antti Kuusiniemi</td>\n",
       "      <td>http://data.memad.eu/agent/antti-kuusiniemi</td>\n",
       "      <td>29.40</td>\n",
       "      <td>./frames/memad_gt2/narbild_334eebdbd1aaf4b562d...</td>\n",
       "    </tr>\n",
       "    <tr>\n",
       "      <th>1266</th>\n",
       "      <td>http://data.memad.eu/yle/stromso/20d681f86259b...</td>\n",
       "      <td>http://data.memad.eu/yle/stromso/9d977fc8807d7...</td>\n",
       "      <td>1720.40</td>\n",
       "      <td>1740.80</td>\n",
       "      <td>https://platform.limecraft.com/api/production/...</td>\n",
       "      <td>Antti Kuusiniemi</td>\n",
       "      <td>http://data.memad.eu/agent/antti-kuusiniemi</td>\n",
       "      <td>20.40</td>\n",
       "      <td>./frames/memad_gt2/stromso_9d977fc8807d78a978a...</td>\n",
       "    </tr>\n",
       "  </tbody>\n",
       "</table>\n",
       "<p>202 rows × 9 columns</p>\n",
       "</div>"
      ],
      "text/plain": [
       "                                                      p  \\\n",
       "7     http://data.memad.eu/yle/stromso/16557519a0f8f...   \n",
       "8     http://data.memad.eu/yle/stromso/16557519a0f8f...   \n",
       "18    http://data.memad.eu/yle/stromso/48535f899451d...   \n",
       "29    http://data.memad.eu/yle/stromso/aee84fb386f92...   \n",
       "63    http://data.memad.eu/yle/stromso/0c90a724200ed...   \n",
       "...                                                 ...   \n",
       "1236  http://data.memad.eu/yle/narbild/02c56f2c358c5...   \n",
       "1237  http://data.memad.eu/yle/narbild/11dfc167298bf...   \n",
       "1238  http://data.memad.eu/yle/narbild/11dfc167298bf...   \n",
       "1239  http://data.memad.eu/yle/narbild/15f010b5662d4...   \n",
       "1266  http://data.memad.eu/yle/stromso/20d681f86259b...   \n",
       "\n",
       "                                                  media    start      end  \\\n",
       "7     http://data.memad.eu/yle/stromso/849bbd3b5da9c...   991.04  1038.24   \n",
       "8     http://data.memad.eu/yle/stromso/849bbd3b5da9c...   991.40  1038.24   \n",
       "18    http://data.memad.eu/yle/stromso/f0eccbac8f793...  1561.56  1589.48   \n",
       "29    http://data.memad.eu/yle/stromso/bd5e495a9c696...   761.52   796.76   \n",
       "63    http://data.memad.eu/yle/stromso/1dd398f54b09a...  1467.76  1498.76   \n",
       "...                                                 ...      ...      ...   \n",
       "1236  http://data.memad.eu/yle/narbild/4b6fb8183414b...  1673.32  1706.00   \n",
       "1237  http://data.memad.eu/yle/narbild/334eebdbd1aaf...  1517.04  1540.96   \n",
       "1238  http://data.memad.eu/yle/narbild/334eebdbd1aaf...  1517.40  1540.96   \n",
       "1239  http://data.memad.eu/yle/narbild/334eebdbd1aaf...  1692.16  1721.56   \n",
       "1266  http://data.memad.eu/yle/stromso/9d977fc8807d7...  1720.40  1740.80   \n",
       "\n",
       "                                                locator            person  \\\n",
       "7     https://platform.limecraft.com/api/production/...         Esa Saari   \n",
       "8     https://platform.limecraft.com/api/production/...         Esa Saari   \n",
       "18    https://platform.limecraft.com/api/production/...         Esa Saari   \n",
       "29    https://platform.limecraft.com/api/production/...         Esa Saari   \n",
       "63    https://platform.limecraft.com/api/production/...         Esa Saari   \n",
       "...                                                 ...               ...   \n",
       "1236  https://platform.limecraft.com/api/production/...  Antti Kuusiniemi   \n",
       "1237  https://platform.limecraft.com/api/production/...  Antti Kuusiniemi   \n",
       "1238  https://platform.limecraft.com/api/production/...  Antti Kuusiniemi   \n",
       "1239  https://platform.limecraft.com/api/production/...  Antti Kuusiniemi   \n",
       "1266  https://platform.limecraft.com/api/production/...  Antti Kuusiniemi   \n",
       "\n",
       "                                       person_uri  duration  \\\n",
       "7            http://data.memad.eu/agent/esa-saari     47.20   \n",
       "8            http://data.memad.eu/agent/esa-saari     46.84   \n",
       "18           http://data.memad.eu/agent/esa-saari     27.92   \n",
       "29           http://data.memad.eu/agent/esa-saari     35.24   \n",
       "63           http://data.memad.eu/agent/esa-saari     31.00   \n",
       "...                                           ...       ...   \n",
       "1236  http://data.memad.eu/agent/antti-kuusiniemi     32.68   \n",
       "1237  http://data.memad.eu/agent/antti-kuusiniemi     23.92   \n",
       "1238  http://data.memad.eu/agent/antti-kuusiniemi     23.56   \n",
       "1239  http://data.memad.eu/agent/antti-kuusiniemi     29.40   \n",
       "1266  http://data.memad.eu/agent/antti-kuusiniemi     20.40   \n",
       "\n",
       "                                                  frame  \n",
       "7     ./frames/memad_gt2/stromso_849bbd3b5da9c01ca84...  \n",
       "8     ./frames/memad_gt2/stromso_849bbd3b5da9c01ca84...  \n",
       "18    ./frames/memad_gt2/stromso_f0eccbac8f79375f0ee...  \n",
       "29    ./frames/memad_gt2/stromso_bd5e495a9c69610ae3a...  \n",
       "63    ./frames/memad_gt2/stromso_1dd398f54b09a4cdabf...  \n",
       "...                                                 ...  \n",
       "1236  ./frames/memad_gt2/narbild_4b6fb8183414baa9d62...  \n",
       "1237  ./frames/memad_gt2/narbild_334eebdbd1aaf4b562d...  \n",
       "1238  ./frames/memad_gt2/narbild_334eebdbd1aaf4b562d...  \n",
       "1239  ./frames/memad_gt2/narbild_334eebdbd1aaf4b562d...  \n",
       "1266  ./frames/memad_gt2/stromso_9d977fc8807d78a978a...  \n",
       "\n",
       "[202 rows x 9 columns]"
      ]
     },
     "execution_count": 120,
     "metadata": {},
     "output_type": "execute_result"
    }
   ],
   "source": [
    "frames = [l if l is not None else 0 for l in frames]\n",
    "\n",
    "df_subset = df_subset.reset_index(drop=True)\n",
    "\n",
    "df_subset['frame'] = frames\n",
    "df_extracted = df_subset[df_subset['frame'] != 0]\n",
    "df_extracted"
   ]
  },
  {
   "cell_type": "code",
   "execution_count": 121,
   "metadata": {
    "scrolled": true
   },
   "outputs": [
    {
     "data": {
      "text/plain": [
       "Johan Hellman            37\n",
       "Dani Strömbäck           26\n",
       "Jussi Pernaa             26\n",
       "Birgitta Norrgård        20\n",
       "Camilla Boije            20\n",
       "Ann-Helen Påfs-Streng    18\n",
       "Esa Saari                16\n",
       "Camilla Forsén-Ström     15\n",
       "Christina Staffans       12\n",
       "Antti Kuusiniemi         12\n",
       "Name: person, dtype: int64"
      ]
     },
     "execution_count": 121,
     "metadata": {},
     "output_type": "execute_result"
    }
   ],
   "source": [
    "df_extracted['person'].value_counts()"
   ]
  },
  {
   "cell_type": "code",
   "execution_count": 122,
   "metadata": {},
   "outputs": [],
   "source": [
    "df_extracted.to_csv(r'memad_parts2.csv', index = False)"
   ]
  },
  {
   "cell_type": "markdown",
   "metadata": {},
   "source": [
    "### Plan\n",
    "\n",
    "1. Extract 1 folders for each person\n",
    "2. Manually remove the ones not containing the person\n",
    "3. Re-import in this notebook and fix the table\n",
    "\n",
    "##### 1. Extract 3 folders for each person"
   ]
  },
  {
   "cell_type": "code",
   "execution_count": 123,
   "metadata": {},
   "outputs": [],
   "source": [
    "from shutil import copyfile\n",
    "\n",
    "for p in df_extracted['person'].unique():\n",
    "    out_path = './dataset_memad2/%s' % p.replace(' ', '_')\n",
    "    os.makedirs(out_path, exist_ok=True)\n",
    "\n",
    "    for i, row in df_extracted[df_extracted['person'] == p].iterrows():\n",
    "        x = row['frame']\n",
    "        fname = x.split('/')[-1]\n",
    "        copyfile(x, os.path.join(out_path, fname))"
   ]
  },
  {
   "cell_type": "markdown",
   "metadata": {},
   "source": [
    "##### 2. Manually move those to 2 groups: containing and not containing the person\n",
    "\n",
    "\n",
    "_(This action is made offline)_\n",
    "\n",
    "##### 3. Re-import in this notebook and fix the table"
   ]
  },
  {
   "cell_type": "code",
   "execution_count": 68,
   "metadata": {},
   "outputs": [],
   "source": [
    "manual_good = []\n",
    "manual_bad = []\n",
    "for p in os.listdir('./dataset_memad'):\n",
    "    if p == '.DS_Store':\n",
    "        continue\n",
    "        \n",
    "\n",
    "    for f in os.listdir(os.path.join('./dataset_memad', p)):\n",
    "        if f == '.DS_Store':\n",
    "            continue\n",
    "        if p == 'unknown':\n",
    "            manual_bad.append('./frames/memad_gt/'+f)\n",
    "        else:\n",
    "            manual_good.append((p,'./frames/memad_gt/'+f))"
   ]
  },
  {
   "cell_type": "code",
   "execution_count": 69,
   "metadata": {
    "scrolled": true
   },
   "outputs": [
    {
     "name": "stdout",
     "output_type": "stream",
     "text": [
      "Delahousse,_Laurent 10\n",
      "Drucker,_Marie 18\n",
      "Gastrin,_Sophie 25\n",
      "Le_Saint,_Sophie 26\n",
      "Lucet,_Elise 28\n",
      "Rincquesen,_Nathanaël_de 65\n"
     ]
    }
   ],
   "source": [
    "unique, counts = np.unique(np.array(manual_good)[:,0], return_counts=True)\n",
    "for a,b in zip(unique,counts):\n",
    "    print(a, b)"
   ]
  },
  {
   "cell_type": "code",
   "execution_count": null,
   "metadata": {},
   "outputs": [],
   "source": []
  }
 ],
 "metadata": {
  "kernelspec": {
   "display_name": "Python 3",
   "language": "python",
   "name": "python3"
  },
  "language_info": {
   "codemirror_mode": {
    "name": "ipython",
    "version": 3
   },
   "file_extension": ".py",
   "mimetype": "text/x-python",
   "name": "python",
   "nbconvert_exporter": "python",
   "pygments_lexer": "ipython3",
   "version": "3.7.7"
  }
 },
 "nbformat": 4,
 "nbformat_minor": 1
}
