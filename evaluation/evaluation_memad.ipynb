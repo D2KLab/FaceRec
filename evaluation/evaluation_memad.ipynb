{
 "cells": [
  {
   "cell_type": "markdown",
   "metadata": {},
   "source": [
    "MeMAD Dataset :  Evaluation\n",
    "===============================\n",
    "\n",
    "This notebook serves as evaluation for the face recognition system."
   ]
  },
  {
   "cell_type": "code",
   "execution_count": 1,
   "metadata": {
    "pycharm": {
     "is_executing": true
    }
   },
   "outputs": [],
   "source": [
    "import os\n",
    "import sys\n",
    "sys.path.insert(0, os.path.abspath('../'))\n",
    "\n",
    "import json\n",
    "import numpy as np\n",
    "import pandas as pd\n",
    "import matplotlib.pyplot as plt\n",
    "\n",
    "import ipywidgets as widgets\n",
    "from sklearn.metrics import precision_recall_fscore_support as score\n",
    "\n",
    "\n",
    "from src import clusterize"
   ]
  },
  {
   "cell_type": "markdown",
   "metadata": {},
   "source": [
    "Load the original dataset"
   ]
  },
  {
   "cell_type": "code",
   "execution_count": 2,
   "metadata": {},
   "outputs": [
    {
     "data": {
      "text/html": [
       "<div>\n",
       "<style scoped>\n",
       "    .dataframe tbody tr th:only-of-type {\n",
       "        vertical-align: middle;\n",
       "    }\n",
       "\n",
       "    .dataframe tbody tr th {\n",
       "        vertical-align: top;\n",
       "    }\n",
       "\n",
       "    .dataframe thead th {\n",
       "        text-align: right;\n",
       "    }\n",
       "</style>\n",
       "<table border=\"1\" class=\"dataframe\">\n",
       "  <thead>\n",
       "    <tr style=\"text-align: right;\">\n",
       "      <th></th>\n",
       "      <th>media</th>\n",
       "      <th>locator</th>\n",
       "      <th>p</th>\n",
       "      <th>start</th>\n",
       "      <th>end</th>\n",
       "      <th>person</th>\n",
       "    </tr>\n",
       "  </thead>\n",
       "  <tbody>\n",
       "    <tr>\n",
       "      <th>0</th>\n",
       "      <td>http://data.memad.eu/fr2/7h30-le-journal/95864...</td>\n",
       "      <td>https://platform.limecraft.com/api/production/...</td>\n",
       "      <td>http://data.memad.eu/fr2/7h30-le-journal/7d0d1...</td>\n",
       "      <td>462</td>\n",
       "      <td>487</td>\n",
       "      <td>Le Saint, Sophie</td>\n",
       "    </tr>\n",
       "    <tr>\n",
       "      <th>1</th>\n",
       "      <td>http://data.memad.eu/fr2/7h30-le-journal/25fd9...</td>\n",
       "      <td>https://platform.limecraft.com/api/production/...</td>\n",
       "      <td>http://data.memad.eu/fr2/7h30-le-journal/af6f8...</td>\n",
       "      <td>358</td>\n",
       "      <td>421</td>\n",
       "      <td>Le Saint, Sophie</td>\n",
       "    </tr>\n",
       "    <tr>\n",
       "      <th>2</th>\n",
       "      <td>http://data.memad.eu/fr2/7h30-le-journal/4feee...</td>\n",
       "      <td>https://platform.limecraft.com/api/production/...</td>\n",
       "      <td>http://data.memad.eu/fr2/7h30-le-journal/842d9...</td>\n",
       "      <td>364</td>\n",
       "      <td>413</td>\n",
       "      <td>Le Saint, Sophie</td>\n",
       "    </tr>\n",
       "    <tr>\n",
       "      <th>3</th>\n",
       "      <td>http://data.memad.eu/fr2/6h30-le-journal/0474b...</td>\n",
       "      <td>https://platform.limecraft.com/api/production/...</td>\n",
       "      <td>http://data.memad.eu/fr2/6h30-le-journal/48865...</td>\n",
       "      <td>229</td>\n",
       "      <td>239</td>\n",
       "      <td>Le Saint, Sophie</td>\n",
       "    </tr>\n",
       "    <tr>\n",
       "      <th>4</th>\n",
       "      <td>http://data.memad.eu/fr2/6h30-le-journal/4f852...</td>\n",
       "      <td>https://platform.limecraft.com/api/production/...</td>\n",
       "      <td>http://data.memad.eu/fr2/6h30-le-journal/498e9...</td>\n",
       "      <td>195</td>\n",
       "      <td>217</td>\n",
       "      <td>Le Saint, Sophie</td>\n",
       "    </tr>\n",
       "    <tr>\n",
       "      <th>...</th>\n",
       "      <td>...</td>\n",
       "      <td>...</td>\n",
       "      <td>...</td>\n",
       "      <td>...</td>\n",
       "      <td>...</td>\n",
       "      <td>...</td>\n",
       "    </tr>\n",
       "    <tr>\n",
       "      <th>95</th>\n",
       "      <td>http://data.memad.eu/fr2/13-heures/3ac1dfecf30...</td>\n",
       "      <td>https://platform.limecraft.com/api/production/...</td>\n",
       "      <td>http://data.memad.eu/fr2/13-heures/f3a2bc632d9...</td>\n",
       "      <td>340</td>\n",
       "      <td>364</td>\n",
       "      <td>0</td>\n",
       "    </tr>\n",
       "    <tr>\n",
       "      <th>96</th>\n",
       "      <td>http://data.memad.eu/fr2/13-heures/f0c2067e035...</td>\n",
       "      <td>https://platform.limecraft.com/api/production/...</td>\n",
       "      <td>http://data.memad.eu/fr2/13-heures/8311ffe9315...</td>\n",
       "      <td>951</td>\n",
       "      <td>968</td>\n",
       "      <td>0</td>\n",
       "    </tr>\n",
       "    <tr>\n",
       "      <th>97</th>\n",
       "      <td>http://data.memad.eu/fr2/13-heures/2c506ee4e8d...</td>\n",
       "      <td>https://platform.limecraft.com/api/production/...</td>\n",
       "      <td>http://data.memad.eu/fr2/13-heures/9c802bb4d1c...</td>\n",
       "      <td>485</td>\n",
       "      <td>510</td>\n",
       "      <td>0</td>\n",
       "    </tr>\n",
       "    <tr>\n",
       "      <th>98</th>\n",
       "      <td>http://data.memad.eu/fr2/20-heures/bc94cb0df1a...</td>\n",
       "      <td>https://platform.limecraft.com/api/production/...</td>\n",
       "      <td>http://data.memad.eu/fr2/20-heures/a1cd9fbd25b...</td>\n",
       "      <td>1809</td>\n",
       "      <td>1830</td>\n",
       "      <td>0</td>\n",
       "    </tr>\n",
       "    <tr>\n",
       "      <th>99</th>\n",
       "      <td>http://data.memad.eu/fr2/8h00-le-journal/a9e60...</td>\n",
       "      <td>https://platform.limecraft.com/api/production/...</td>\n",
       "      <td>http://data.memad.eu/fr2/8h00-le-journal/336c1...</td>\n",
       "      <td>118</td>\n",
       "      <td>166</td>\n",
       "      <td>0</td>\n",
       "    </tr>\n",
       "  </tbody>\n",
       "</table>\n",
       "<p>100 rows × 6 columns</p>\n",
       "</div>"
      ],
      "text/plain": [
       "                                                media  \\\n",
       "0   http://data.memad.eu/fr2/7h30-le-journal/95864...   \n",
       "1   http://data.memad.eu/fr2/7h30-le-journal/25fd9...   \n",
       "2   http://data.memad.eu/fr2/7h30-le-journal/4feee...   \n",
       "3   http://data.memad.eu/fr2/6h30-le-journal/0474b...   \n",
       "4   http://data.memad.eu/fr2/6h30-le-journal/4f852...   \n",
       "..                                                ...   \n",
       "95  http://data.memad.eu/fr2/13-heures/3ac1dfecf30...   \n",
       "96  http://data.memad.eu/fr2/13-heures/f0c2067e035...   \n",
       "97  http://data.memad.eu/fr2/13-heures/2c506ee4e8d...   \n",
       "98  http://data.memad.eu/fr2/20-heures/bc94cb0df1a...   \n",
       "99  http://data.memad.eu/fr2/8h00-le-journal/a9e60...   \n",
       "\n",
       "                                              locator  \\\n",
       "0   https://platform.limecraft.com/api/production/...   \n",
       "1   https://platform.limecraft.com/api/production/...   \n",
       "2   https://platform.limecraft.com/api/production/...   \n",
       "3   https://platform.limecraft.com/api/production/...   \n",
       "4   https://platform.limecraft.com/api/production/...   \n",
       "..                                                ...   \n",
       "95  https://platform.limecraft.com/api/production/...   \n",
       "96  https://platform.limecraft.com/api/production/...   \n",
       "97  https://platform.limecraft.com/api/production/...   \n",
       "98  https://platform.limecraft.com/api/production/...   \n",
       "99  https://platform.limecraft.com/api/production/...   \n",
       "\n",
       "                                                    p  start   end  \\\n",
       "0   http://data.memad.eu/fr2/7h30-le-journal/7d0d1...    462   487   \n",
       "1   http://data.memad.eu/fr2/7h30-le-journal/af6f8...    358   421   \n",
       "2   http://data.memad.eu/fr2/7h30-le-journal/842d9...    364   413   \n",
       "3   http://data.memad.eu/fr2/6h30-le-journal/48865...    229   239   \n",
       "4   http://data.memad.eu/fr2/6h30-le-journal/498e9...    195   217   \n",
       "..                                                ...    ...   ...   \n",
       "95  http://data.memad.eu/fr2/13-heures/f3a2bc632d9...    340   364   \n",
       "96  http://data.memad.eu/fr2/13-heures/8311ffe9315...    951   968   \n",
       "97  http://data.memad.eu/fr2/13-heures/9c802bb4d1c...    485   510   \n",
       "98  http://data.memad.eu/fr2/20-heures/a1cd9fbd25b...   1809  1830   \n",
       "99  http://data.memad.eu/fr2/8h00-le-journal/336c1...    118   166   \n",
       "\n",
       "              person  \n",
       "0   Le Saint, Sophie  \n",
       "1   Le Saint, Sophie  \n",
       "2   Le Saint, Sophie  \n",
       "3   Le Saint, Sophie  \n",
       "4   Le Saint, Sophie  \n",
       "..               ...  \n",
       "95                 0  \n",
       "96                 0  \n",
       "97                 0  \n",
       "98                 0  \n",
       "99                 0  \n",
       "\n",
       "[100 rows x 6 columns]"
      ]
     },
     "execution_count": 2,
     "metadata": {},
     "output_type": "execute_result"
    }
   ],
   "source": [
    "df_dataset = pd.read_csv('dataset_memad.csv')\n",
    "df_dataset"
   ]
  },
  {
   "cell_type": "markdown",
   "metadata": {},
   "source": [
    "Load computation results (obtained using `bulk_run.py`)"
   ]
  },
  {
   "cell_type": "code",
   "execution_count": 3,
   "metadata": {},
   "outputs": [
    {
     "data": {
      "text/plain": [
       "100"
      ]
     },
     "execution_count": 3,
     "metadata": {},
     "output_type": "execute_result"
    }
   ],
   "source": [
    "with open('./intermediate/results_memad_gt.json', 'r') as f:\n",
    "    results = json.load(f)\n",
    "len(results)"
   ]
  },
  {
   "cell_type": "code",
   "execution_count": 4,
   "metadata": {},
   "outputs": [],
   "source": [
    "clusters = [clusterize.main(clusterize.from_dict(p), confidence_threshold=0.0) for p in results]"
   ]
  },
  {
   "cell_type": "code",
   "execution_count": 5,
   "metadata": {},
   "outputs": [
    {
     "data": {
      "text/html": [
       "<div>\n",
       "<style scoped>\n",
       "    .dataframe tbody tr th:only-of-type {\n",
       "        vertical-align: middle;\n",
       "    }\n",
       "\n",
       "    .dataframe tbody tr th {\n",
       "        vertical-align: top;\n",
       "    }\n",
       "\n",
       "    .dataframe thead th {\n",
       "        text-align: right;\n",
       "    }\n",
       "</style>\n",
       "<table border=\"1\" class=\"dataframe\">\n",
       "  <thead>\n",
       "    <tr style=\"text-align: right;\">\n",
       "      <th></th>\n",
       "      <th>media</th>\n",
       "      <th>locator</th>\n",
       "      <th>p</th>\n",
       "      <th>start</th>\n",
       "      <th>end</th>\n",
       "      <th>person</th>\n",
       "      <th>predicted</th>\n",
       "      <th>confidence</th>\n",
       "      <th>duration</th>\n",
       "    </tr>\n",
       "  </thead>\n",
       "  <tbody>\n",
       "    <tr>\n",
       "      <th>0</th>\n",
       "      <td>http://data.memad.eu/fr2/7h30-le-journal/95864...</td>\n",
       "      <td>https://platform.limecraft.com/api/production/...</td>\n",
       "      <td>http://data.memad.eu/fr2/7h30-le-journal/7d0d1...</td>\n",
       "      <td>462</td>\n",
       "      <td>487</td>\n",
       "      <td>Le Saint, Sophie</td>\n",
       "      <td>Le Saint, Sophie</td>\n",
       "      <td>0.721167</td>\n",
       "      <td>25</td>\n",
       "    </tr>\n",
       "    <tr>\n",
       "      <th>1</th>\n",
       "      <td>http://data.memad.eu/fr2/7h30-le-journal/25fd9...</td>\n",
       "      <td>https://platform.limecraft.com/api/production/...</td>\n",
       "      <td>http://data.memad.eu/fr2/7h30-le-journal/af6f8...</td>\n",
       "      <td>358</td>\n",
       "      <td>421</td>\n",
       "      <td>Le Saint, Sophie</td>\n",
       "      <td>Le Saint, Sophie</td>\n",
       "      <td>0.739454</td>\n",
       "      <td>63</td>\n",
       "    </tr>\n",
       "    <tr>\n",
       "      <th>2</th>\n",
       "      <td>http://data.memad.eu/fr2/7h30-le-journal/4feee...</td>\n",
       "      <td>https://platform.limecraft.com/api/production/...</td>\n",
       "      <td>http://data.memad.eu/fr2/7h30-le-journal/842d9...</td>\n",
       "      <td>364</td>\n",
       "      <td>413</td>\n",
       "      <td>Le Saint, Sophie</td>\n",
       "      <td>Le Saint, Sophie</td>\n",
       "      <td>0.709442</td>\n",
       "      <td>49</td>\n",
       "    </tr>\n",
       "    <tr>\n",
       "      <th>3</th>\n",
       "      <td>http://data.memad.eu/fr2/6h30-le-journal/0474b...</td>\n",
       "      <td>https://platform.limecraft.com/api/production/...</td>\n",
       "      <td>http://data.memad.eu/fr2/6h30-le-journal/48865...</td>\n",
       "      <td>229</td>\n",
       "      <td>239</td>\n",
       "      <td>Le Saint, Sophie</td>\n",
       "      <td>0.0</td>\n",
       "      <td>0.000000</td>\n",
       "      <td>10</td>\n",
       "    </tr>\n",
       "    <tr>\n",
       "      <th>4</th>\n",
       "      <td>http://data.memad.eu/fr2/6h30-le-journal/4f852...</td>\n",
       "      <td>https://platform.limecraft.com/api/production/...</td>\n",
       "      <td>http://data.memad.eu/fr2/6h30-le-journal/498e9...</td>\n",
       "      <td>195</td>\n",
       "      <td>217</td>\n",
       "      <td>Le Saint, Sophie</td>\n",
       "      <td>Le Saint, Sophie</td>\n",
       "      <td>0.717663</td>\n",
       "      <td>22</td>\n",
       "    </tr>\n",
       "    <tr>\n",
       "      <th>...</th>\n",
       "      <td>...</td>\n",
       "      <td>...</td>\n",
       "      <td>...</td>\n",
       "      <td>...</td>\n",
       "      <td>...</td>\n",
       "      <td>...</td>\n",
       "      <td>...</td>\n",
       "      <td>...</td>\n",
       "      <td>...</td>\n",
       "    </tr>\n",
       "    <tr>\n",
       "      <th>95</th>\n",
       "      <td>http://data.memad.eu/fr2/13-heures/3ac1dfecf30...</td>\n",
       "      <td>https://platform.limecraft.com/api/production/...</td>\n",
       "      <td>http://data.memad.eu/fr2/13-heures/f3a2bc632d9...</td>\n",
       "      <td>340</td>\n",
       "      <td>364</td>\n",
       "      <td>0</td>\n",
       "      <td>Le Saint, Sophie</td>\n",
       "      <td>0.420670</td>\n",
       "      <td>24</td>\n",
       "    </tr>\n",
       "    <tr>\n",
       "      <th>96</th>\n",
       "      <td>http://data.memad.eu/fr2/13-heures/f0c2067e035...</td>\n",
       "      <td>https://platform.limecraft.com/api/production/...</td>\n",
       "      <td>http://data.memad.eu/fr2/13-heures/8311ffe9315...</td>\n",
       "      <td>951</td>\n",
       "      <td>968</td>\n",
       "      <td>0</td>\n",
       "      <td>Rincquesen, Nathanaël de</td>\n",
       "      <td>0.427254</td>\n",
       "      <td>17</td>\n",
       "    </tr>\n",
       "    <tr>\n",
       "      <th>97</th>\n",
       "      <td>http://data.memad.eu/fr2/13-heures/2c506ee4e8d...</td>\n",
       "      <td>https://platform.limecraft.com/api/production/...</td>\n",
       "      <td>http://data.memad.eu/fr2/13-heures/9c802bb4d1c...</td>\n",
       "      <td>485</td>\n",
       "      <td>510</td>\n",
       "      <td>0</td>\n",
       "      <td>0.0</td>\n",
       "      <td>0.000000</td>\n",
       "      <td>25</td>\n",
       "    </tr>\n",
       "    <tr>\n",
       "      <th>98</th>\n",
       "      <td>http://data.memad.eu/fr2/20-heures/bc94cb0df1a...</td>\n",
       "      <td>https://platform.limecraft.com/api/production/...</td>\n",
       "      <td>http://data.memad.eu/fr2/20-heures/a1cd9fbd25b...</td>\n",
       "      <td>1809</td>\n",
       "      <td>1830</td>\n",
       "      <td>0</td>\n",
       "      <td>0.0</td>\n",
       "      <td>0.000000</td>\n",
       "      <td>21</td>\n",
       "    </tr>\n",
       "    <tr>\n",
       "      <th>99</th>\n",
       "      <td>http://data.memad.eu/fr2/8h00-le-journal/a9e60...</td>\n",
       "      <td>https://platform.limecraft.com/api/production/...</td>\n",
       "      <td>http://data.memad.eu/fr2/8h00-le-journal/336c1...</td>\n",
       "      <td>118</td>\n",
       "      <td>166</td>\n",
       "      <td>0</td>\n",
       "      <td>0.0</td>\n",
       "      <td>0.000000</td>\n",
       "      <td>48</td>\n",
       "    </tr>\n",
       "  </tbody>\n",
       "</table>\n",
       "<p>100 rows × 9 columns</p>\n",
       "</div>"
      ],
      "text/plain": [
       "                                                media  \\\n",
       "0   http://data.memad.eu/fr2/7h30-le-journal/95864...   \n",
       "1   http://data.memad.eu/fr2/7h30-le-journal/25fd9...   \n",
       "2   http://data.memad.eu/fr2/7h30-le-journal/4feee...   \n",
       "3   http://data.memad.eu/fr2/6h30-le-journal/0474b...   \n",
       "4   http://data.memad.eu/fr2/6h30-le-journal/4f852...   \n",
       "..                                                ...   \n",
       "95  http://data.memad.eu/fr2/13-heures/3ac1dfecf30...   \n",
       "96  http://data.memad.eu/fr2/13-heures/f0c2067e035...   \n",
       "97  http://data.memad.eu/fr2/13-heures/2c506ee4e8d...   \n",
       "98  http://data.memad.eu/fr2/20-heures/bc94cb0df1a...   \n",
       "99  http://data.memad.eu/fr2/8h00-le-journal/a9e60...   \n",
       "\n",
       "                                              locator  \\\n",
       "0   https://platform.limecraft.com/api/production/...   \n",
       "1   https://platform.limecraft.com/api/production/...   \n",
       "2   https://platform.limecraft.com/api/production/...   \n",
       "3   https://platform.limecraft.com/api/production/...   \n",
       "4   https://platform.limecraft.com/api/production/...   \n",
       "..                                                ...   \n",
       "95  https://platform.limecraft.com/api/production/...   \n",
       "96  https://platform.limecraft.com/api/production/...   \n",
       "97  https://platform.limecraft.com/api/production/...   \n",
       "98  https://platform.limecraft.com/api/production/...   \n",
       "99  https://platform.limecraft.com/api/production/...   \n",
       "\n",
       "                                                    p  start   end  \\\n",
       "0   http://data.memad.eu/fr2/7h30-le-journal/7d0d1...    462   487   \n",
       "1   http://data.memad.eu/fr2/7h30-le-journal/af6f8...    358   421   \n",
       "2   http://data.memad.eu/fr2/7h30-le-journal/842d9...    364   413   \n",
       "3   http://data.memad.eu/fr2/6h30-le-journal/48865...    229   239   \n",
       "4   http://data.memad.eu/fr2/6h30-le-journal/498e9...    195   217   \n",
       "..                                                ...    ...   ...   \n",
       "95  http://data.memad.eu/fr2/13-heures/f3a2bc632d9...    340   364   \n",
       "96  http://data.memad.eu/fr2/13-heures/8311ffe9315...    951   968   \n",
       "97  http://data.memad.eu/fr2/13-heures/9c802bb4d1c...    485   510   \n",
       "98  http://data.memad.eu/fr2/20-heures/a1cd9fbd25b...   1809  1830   \n",
       "99  http://data.memad.eu/fr2/8h00-le-journal/336c1...    118   166   \n",
       "\n",
       "              person                 predicted  confidence  duration  \n",
       "0   Le Saint, Sophie          Le Saint, Sophie    0.721167        25  \n",
       "1   Le Saint, Sophie          Le Saint, Sophie    0.739454        63  \n",
       "2   Le Saint, Sophie          Le Saint, Sophie    0.709442        49  \n",
       "3   Le Saint, Sophie                       0.0    0.000000        10  \n",
       "4   Le Saint, Sophie          Le Saint, Sophie    0.717663        22  \n",
       "..               ...                       ...         ...       ...  \n",
       "95                 0          Le Saint, Sophie    0.420670        24  \n",
       "96                 0  Rincquesen, Nathanaël de    0.427254        17  \n",
       "97                 0                       0.0    0.000000        25  \n",
       "98                 0                       0.0    0.000000        21  \n",
       "99                 0                       0.0    0.000000        48  \n",
       "\n",
       "[100 rows x 9 columns]"
      ]
     },
     "execution_count": 5,
     "metadata": {},
     "output_type": "execute_result"
    }
   ],
   "source": [
    "l = len(df_dataset)\n",
    "df_dataset['predicted'] = np.zeros(l)\n",
    "df_dataset['confidence'] = np.zeros(l)\n",
    "durations = []\n",
    "\n",
    "for i, x in df_dataset.iterrows():\n",
    "    cur = clusters[i]\n",
    "    start = x['start']\n",
    "    end = x['end']\n",
    "    b = np.arange(start, end)\n",
    "    durations.append(end-start)\n",
    "\n",
    "    for c in cur:\n",
    "        a = np.arange(c['start_npt'], c['end_npt'])\n",
    "        if len(np.intersect1d(a,b)) > 0:\n",
    "            df_dataset.loc[i, 'predicted'] = c['name']\n",
    "            df_dataset.loc[i, 'confidence'] = c['confidence']\n",
    "            if x['person'] == c['name']:\n",
    "                break\n",
    "\n",
    "df_dataset['duration'] = durations\n",
    "df_dataset"
   ]
  },
  {
   "cell_type": "code",
   "execution_count": 6,
   "metadata": {},
   "outputs": [
    {
     "data": {
      "text/plain": [
       "count    100.000000\n",
       "mean      38.930000\n",
       "std       28.602555\n",
       "min        4.000000\n",
       "25%       17.000000\n",
       "50%       27.000000\n",
       "75%       59.250000\n",
       "max      124.000000\n",
       "Name: duration, dtype: float64"
      ]
     },
     "execution_count": 6,
     "metadata": {},
     "output_type": "execute_result"
    }
   ],
   "source": [
    "df_dataset['duration'].describe()"
   ]
  },
  {
   "cell_type": "code",
   "execution_count": 7,
   "metadata": {},
   "outputs": [
    {
     "data": {
      "text/plain": [
       "<AxesSubplot:ylabel='Frequency'>"
      ]
     },
     "execution_count": 7,
     "metadata": {},
     "output_type": "execute_result"
    },
    {
     "data": {
      "image/png": "[encoded data removed]",
      "text/plain": [
       "<Figure size 432x288 with 1 Axes>"
      ]
     },
     "metadata": {
      "needs_background": "light"
     },
     "output_type": "display_data"
    }
   ],
   "source": [
    "df_dataset['duration'].plot.hist(bins=20)"
   ]
  },
  {
   "cell_type": "code",
   "execution_count": 8,
   "metadata": {},
   "outputs": [],
   "source": [
    "classes = [str(p) for p in df_dataset['person'].unique()]\n",
    "\n",
    "def compute_metrics(threshold=0.5):\n",
    "    label = np.array([str(p) for p in df_dataset['person']])\n",
    "    predicted = np.array([str(p['predicted']) if p['confidence'] > threshold else '0' for i, p in df_dataset.iterrows() ])\n",
    "    predicted = ['Rincquesen, Nathanaël de' if p == 'Rincquesen, Nathanaël de' else p for p in predicted]\n",
    "    \n",
    "    return score(label, predicted, labels=classes, zero_division=1)\n",
    "\n",
    "def show_metrics(threshold=0.5):\n",
    "    precision , recall, fscore, support = compute_metrics(threshold)\n",
    "\n",
    "    dfx = pd.DataFrame()\n",
    "    dfx['index']= classes\n",
    "    dfx['precision'] =  precision\n",
    "    dfx['recall'] =  recall\n",
    "    dfx['fscore'] =  fscore\n",
    "    dfx['support'] =  support\n",
    "\n",
    "    tot = {\n",
    "        'index' : 'tot (excluded 0)',\n",
    "        'precision': np.average(precision[0:-1], weights=support[0:-1]),\n",
    "        'recall' : np.average(recall[0:-1], weights=support[0:-1]),\n",
    "        'fscore' : np.average(fscore[0:-1], weights=support[0:-1]),\n",
    "        'support' : np.sum(support)\n",
    "    }\n",
    "    dfx = dfx.append(pd.DataFrame(tot, index=[7]))\n",
    "    return dfx"
   ]
  },
  {
   "cell_type": "code",
   "execution_count": 9,
   "metadata": {},
   "outputs": [
    {
     "data": {
      "application/vnd.jupyter.widget-view+json": {
       "model_id": "1872fe30df534d8b955cab69a2a7a78a",
       "version_major": 2,
       "version_minor": 0
      },
      "text/plain": [
       "interactive(children=(FloatSlider(value=0.6, description='threshold', max=1.0, step=0.05), Output()), _dom_cla…"
      ]
     },
     "metadata": {},
     "output_type": "display_data"
    }
   ],
   "source": [
    "widgets.interact(show_metrics, threshold=widgets.FloatSlider(min=0, max=1, step=0.05, value=0.60));"
   ]
  },
  {
   "cell_type": "code",
   "execution_count": 10,
   "metadata": {},
   "outputs": [],
   "source": [
    "precision =[]\n",
    "recall =[]\n",
    "fscore =[]\n",
    "\n",
    "_range = np.arange(0, 0.8, 0.05)\n",
    "for threshold in _range:\n",
    "    p, r, f, support = compute_metrics(threshold)\n",
    "    precision.append(np.average(p[0:-1], weights=support[0:-1]))\n",
    "    recall.append(np.average(r[0:-1], weights=support[0:-1]))\n",
    "    fscore.append(np.average(f[0:-1], weights=support[0:-1]))"
   ]
  },
  {
   "cell_type": "code",
   "execution_count": 11,
   "metadata": {},
   "outputs": [
    {
     "data": {
      "text/plain": [
       "0.5"
      ]
     },
     "execution_count": 11,
     "metadata": {},
     "output_type": "execute_result"
    }
   ],
   "source": [
    "np.argmax(fscore) * 0.05"
   ]
  },
  {
   "cell_type": "code",
   "execution_count": 12,
   "metadata": {},
   "outputs": [
    {
     "data": {
      "image/png": "[encoded data removed]",
      "text/plain": [
       "<Figure size 432x288 with 1 Axes>"
      ]
     },
     "metadata": {
      "needs_background": "light"
     },
     "output_type": "display_data"
    }
   ],
   "source": [
    "fig, ax = plt.subplots()  # Create a figure and an axes.\n",
    "ax.plot(_range, precision, label='precision')  # Plot some data on the axes.\n",
    "ax.plot(_range, recall, label='recall')  # Plot more data on the axes...\n",
    "ax.plot(_range, fscore, label='f-score')  # ... and some more.\n",
    "ax.set_xlabel('confidence treshold')  # Add an x-label to the axes.\n",
    "ax.set_ylabel('score')  # Add a y-label to the axes.\n",
    "ax.legend()  # Add a legend\n",
    "plt.savefig('plot/memad_facerec_precision.pdf')  "
   ]
  },
  {
   "cell_type": "markdown",
   "metadata": {},
   "source": [
    "0.6 looks like the best threshold. I save the results"
   ]
  },
  {
   "cell_type": "code",
   "execution_count": 13,
   "metadata": {},
   "outputs": [
    {
     "data": {
      "text/html": [
       "<div>\n",
       "<style scoped>\n",
       "    .dataframe tbody tr th:only-of-type {\n",
       "        vertical-align: middle;\n",
       "    }\n",
       "\n",
       "    .dataframe tbody tr th {\n",
       "        vertical-align: top;\n",
       "    }\n",
       "\n",
       "    .dataframe thead th {\n",
       "        text-align: right;\n",
       "    }\n",
       "</style>\n",
       "<table border=\"1\" class=\"dataframe\">\n",
       "  <thead>\n",
       "    <tr style=\"text-align: right;\">\n",
       "      <th></th>\n",
       "      <th>index</th>\n",
       "      <th>precision</th>\n",
       "      <th>recall</th>\n",
       "      <th>fscore</th>\n",
       "      <th>support</th>\n",
       "    </tr>\n",
       "  </thead>\n",
       "  <tbody>\n",
       "    <tr>\n",
       "      <th>0</th>\n",
       "      <td>Le Saint, Sophie</td>\n",
       "      <td>0.900000</td>\n",
       "      <td>0.900000</td>\n",
       "      <td>0.900000</td>\n",
       "      <td>10</td>\n",
       "    </tr>\n",
       "    <tr>\n",
       "      <th>1</th>\n",
       "      <td>Delahousse, Laurent</td>\n",
       "      <td>1.000000</td>\n",
       "      <td>1.000000</td>\n",
       "      <td>1.000000</td>\n",
       "      <td>7</td>\n",
       "    </tr>\n",
       "    <tr>\n",
       "      <th>2</th>\n",
       "      <td>Lucet, Elise</td>\n",
       "      <td>1.000000</td>\n",
       "      <td>0.900000</td>\n",
       "      <td>0.947368</td>\n",
       "      <td>10</td>\n",
       "    </tr>\n",
       "    <tr>\n",
       "      <th>3</th>\n",
       "      <td>Gastrin, Sophie</td>\n",
       "      <td>1.000000</td>\n",
       "      <td>0.900000</td>\n",
       "      <td>0.947368</td>\n",
       "      <td>10</td>\n",
       "    </tr>\n",
       "    <tr>\n",
       "      <th>4</th>\n",
       "      <td>Rincquesen, Nathanaël de</td>\n",
       "      <td>1.000000</td>\n",
       "      <td>0.800000</td>\n",
       "      <td>0.888889</td>\n",
       "      <td>10</td>\n",
       "    </tr>\n",
       "    <tr>\n",
       "      <th>5</th>\n",
       "      <td>Drucker, Marie</td>\n",
       "      <td>1.000000</td>\n",
       "      <td>1.000000</td>\n",
       "      <td>1.000000</td>\n",
       "      <td>10</td>\n",
       "    </tr>\n",
       "    <tr>\n",
       "      <th>6</th>\n",
       "      <td>0</td>\n",
       "      <td>0.893617</td>\n",
       "      <td>0.976744</td>\n",
       "      <td>0.933333</td>\n",
       "      <td>43</td>\n",
       "    </tr>\n",
       "    <tr>\n",
       "      <th>7</th>\n",
       "      <td>tot (excluded 0)</td>\n",
       "      <td>0.982456</td>\n",
       "      <td>0.912281</td>\n",
       "      <td>0.944496</td>\n",
       "      <td>100</td>\n",
       "    </tr>\n",
       "  </tbody>\n",
       "</table>\n",
       "</div>"
      ],
      "text/plain": [
       "                       index  precision    recall    fscore  support\n",
       "0           Le Saint, Sophie   0.900000  0.900000  0.900000       10\n",
       "1        Delahousse, Laurent   1.000000  1.000000  1.000000        7\n",
       "2               Lucet, Elise   1.000000  0.900000  0.947368       10\n",
       "3            Gastrin, Sophie   1.000000  0.900000  0.947368       10\n",
       "4  Rincquesen, Nathanaël de   1.000000  0.800000  0.888889       10\n",
       "5             Drucker, Marie   1.000000  1.000000  1.000000       10\n",
       "6                          0   0.893617  0.976744  0.933333       43\n",
       "7           tot (excluded 0)   0.982456  0.912281  0.944496      100"
      ]
     },
     "execution_count": 13,
     "metadata": {},
     "output_type": "execute_result"
    }
   ],
   "source": [
    "show_metrics(0.6)"
   ]
  },
  {
   "cell_type": "code",
   "execution_count": 14,
   "metadata": {},
   "outputs": [],
   "source": [
    "with open('plot/latex_memad.txt', 'w') as f:\n",
    "    show_metrics(0.6).to_latex(f, index=False)"
   ]
  },
  {
   "cell_type": "code",
   "execution_count": 15,
   "metadata": {},
   "outputs": [
    {
     "data": {
      "application/vnd.jupyter.widget-view+json": {
       "model_id": "80a00cd6d4d04f31bd53c5c9f9e75037",
       "version_major": 2,
       "version_minor": 0
      },
      "text/plain": [
       "interactive(children=(Dropdown(description='Person:', options=('Le Saint, Sophie', 'Delahousse, Laurent', 'Luc…"
      ]
     },
     "metadata": {},
     "output_type": "display_data"
    }
   ],
   "source": [
    "pd.set_option('display.max_colwidth', None)\n",
    "\n",
    "def filter_by(prop):\n",
    "    def filter_with(what):\n",
    "        return df_dataset[df_dataset[prop] == what][['media','locator', 'start', 'end','person', 'predicted', 'confidence']]\n",
    "    return filter_with\n",
    "    \n",
    "widgets.interact(filter_by('person'), what=widgets.Dropdown(\n",
    "    options=df_dataset['person'].unique(),\n",
    "    description='Person:',\n",
    "));"
   ]
  },
  {
   "cell_type": "code",
   "execution_count": null,
   "metadata": {},
   "outputs": [],
   "source": []
  }
 ],
 "metadata": {
  "kernelspec": {
   "display_name": "Python 3",
   "language": "python",
   "name": "python3"
  },
  "language_info": {
   "codemirror_mode": {
    "name": "ipython",
    "version": 3
   },
   "file_extension": ".py",
   "mimetype": "text/x-python",
   "name": "python",
   "nbconvert_exporter": "python",
   "pygments_lexer": "ipython3",
   "version": "3.7.7"
  }
 },
 "nbformat": 4,
 "nbformat_minor": 1
}
