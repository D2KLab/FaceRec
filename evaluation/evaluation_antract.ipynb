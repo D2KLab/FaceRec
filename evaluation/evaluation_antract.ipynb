{
 "cells": [
  {
   "cell_type": "markdown",
   "metadata": {},
   "source": [
    "ANTRACT Dataset :  Evaluation\n",
    "===============================\n",
    "\n",
    "This notebook serves as evaluation for the face recognition system."
   ]
  },
  {
   "cell_type": "code",
   "execution_count": 1,
   "metadata": {
    "pycharm": {
     "is_executing": true
    }
   },
   "outputs": [],
   "source": [
    "import os\n",
    "import sys\n",
    "sys.path.insert(0, os.path.abspath('../'))\n",
    "\n",
    "import json\n",
    "import numpy as np\n",
    "import pandas as pd\n",
    "import matplotlib.pyplot as plt\n",
    "\n",
    "import ipywidgets as widgets\n",
    "from sklearn.metrics import precision_recall_fscore_support as score\n",
    "\n",
    "\n",
    "from src import clusterize"
   ]
  },
  {
   "cell_type": "code",
   "execution_count": 2,
   "metadata": {},
   "outputs": [],
   "source": [
    "model_names = { # for the discrepancies for the model names and the dataset ones\n",
    "    'Gaulle, Charles de'           : 'Charles De Gaulle',\n",
    "    'Auriol, Vincent'              : 'Vincent Auriol',\n",
    "    'Pompidou, Georges'            : 'Georges Pompidou',\n",
    "    'Bidault, Georges'             : 'Georges Bidault',\n",
    "    'Eisenhower, Dwight David'     : 'Dwight Eisenhower',\n",
    "    'Eisenhower, Dwight'           : 'Dwight Eisenhower',\n",
    "    'Khrouchtchev, Nikita'         : 'Nikita Khrouchtchev',\n",
    "    'Mollet, Guy'                  : 'Guy Mollet',\n",
    "    'Adenauer, Konrad'             : 'Konrad Adenauer',\n",
    "    'Molotov, Viatcheslav'         : 'Viatcheslav Molotov',\n",
    "    'Mendès France, Pierre'        : 'Pierre Mendès France',\n",
    "    \"Elizabeth d'Angleterre\"       : 'Elisabeth II',\n",
    "    'Mitterrand, François'         : 'François Mitterrand',\n",
    "    'Ben Bella, Ahmed'             : 'Ahmed Ben Bella',\n",
    "    '0'                            : '0'\n",
    "}"
   ]
  },
  {
   "cell_type": "markdown",
   "metadata": {},
   "source": [
    "Load the original dataset"
   ]
  },
  {
   "cell_type": "code",
   "execution_count": 3,
   "metadata": {},
   "outputs": [
    {
     "data": {
      "text/html": [
       "<div>\n",
       "<style scoped>\n",
       "    .dataframe tbody tr th:only-of-type {\n",
       "        vertical-align: middle;\n",
       "    }\n",
       "\n",
       "    .dataframe tbody tr th {\n",
       "        vertical-align: top;\n",
       "    }\n",
       "\n",
       "    .dataframe thead th {\n",
       "        text-align: right;\n",
       "    }\n",
       "</style>\n",
       "<table border=\"1\" class=\"dataframe\">\n",
       "  <thead>\n",
       "    <tr style=\"text-align: right;\">\n",
       "      <th></th>\n",
       "      <th>media</th>\n",
       "      <th>url</th>\n",
       "      <th>segment</th>\n",
       "      <th>start</th>\n",
       "      <th>end</th>\n",
       "      <th>person</th>\n",
       "    </tr>\n",
       "  </thead>\n",
       "  <tbody>\n",
       "    <tr>\n",
       "      <th>0</th>\n",
       "      <td>http://www.ina.fr/media/AFE86003905</td>\n",
       "      <td>/Media/AF/AFE86003905.mp4</td>\n",
       "      <td>http://www.campus-AAR.fr/sceneSegment_AFE86003...</td>\n",
       "      <td>263.0</td>\n",
       "      <td>265.0</td>\n",
       "      <td>Ben Bella, Ahmed</td>\n",
       "    </tr>\n",
       "    <tr>\n",
       "      <th>1</th>\n",
       "      <td>http://www.ina.fr/media/AFE86003905</td>\n",
       "      <td>/Media/AF/AFE86003905.mp4</td>\n",
       "      <td>http://www.campus-AAR.fr/sceneSegment_AFE86003...</td>\n",
       "      <td>270.0</td>\n",
       "      <td>273.0</td>\n",
       "      <td>Ben Bella, Ahmed</td>\n",
       "    </tr>\n",
       "    <tr>\n",
       "      <th>2</th>\n",
       "      <td>http://www.ina.fr/media/AFE86003847</td>\n",
       "      <td>/Media/AF/AFE86003847.mp4</td>\n",
       "      <td>http://www.campus-AAR.fr/sceneSegment_AFE86003...</td>\n",
       "      <td>185.0</td>\n",
       "      <td>188.0</td>\n",
       "      <td>Ben Bella, Ahmed</td>\n",
       "    </tr>\n",
       "    <tr>\n",
       "      <th>3</th>\n",
       "      <td>http://www.ina.fr/media/AFE86003840</td>\n",
       "      <td>/Media/AF/AFE86003840.mp4</td>\n",
       "      <td>http://www.campus-AAR.fr/sceneSegment_AFE86003...</td>\n",
       "      <td>54.0</td>\n",
       "      <td>57.0</td>\n",
       "      <td>Ben Bella, Ahmed</td>\n",
       "    </tr>\n",
       "    <tr>\n",
       "      <th>4</th>\n",
       "      <td>http://www.ina.fr/media/AFE86003905</td>\n",
       "      <td>/Media/AF/AFE86003905.mp4</td>\n",
       "      <td>http://www.campus-AAR.fr/sceneSegment_AFE86003...</td>\n",
       "      <td>255.0</td>\n",
       "      <td>256.0</td>\n",
       "      <td>Ben Bella, Ahmed</td>\n",
       "    </tr>\n",
       "    <tr>\n",
       "      <th>...</th>\n",
       "      <td>...</td>\n",
       "      <td>...</td>\n",
       "      <td>...</td>\n",
       "      <td>...</td>\n",
       "      <td>...</td>\n",
       "      <td>...</td>\n",
       "    </tr>\n",
       "    <tr>\n",
       "      <th>211</th>\n",
       "      <td>http://www.ina.fr/media/AFE86004878</td>\n",
       "      <td>/Media/AF/AFE86004878.mp4</td>\n",
       "      <td>http://www.campus-AAR.fr/sceneSegment_AFE86004...</td>\n",
       "      <td>506.0</td>\n",
       "      <td>509.0</td>\n",
       "      <td>0</td>\n",
       "    </tr>\n",
       "    <tr>\n",
       "      <th>212</th>\n",
       "      <td>http://www.ina.fr/media/AFE86004740</td>\n",
       "      <td>/Media/AF/AFE86004740.mp4</td>\n",
       "      <td>http://www.campus-AAR.fr/sceneSegment_AFE86004...</td>\n",
       "      <td>109.0</td>\n",
       "      <td>112.0</td>\n",
       "      <td>0</td>\n",
       "    </tr>\n",
       "    <tr>\n",
       "      <th>213</th>\n",
       "      <td>http://www.ina.fr/media/AFE86004580</td>\n",
       "      <td>/Media/AF/AFE86004580.mp4</td>\n",
       "      <td>http://www.campus-AAR.fr/sceneSegment_AFE86004...</td>\n",
       "      <td>194.0</td>\n",
       "      <td>196.0</td>\n",
       "      <td>0</td>\n",
       "    </tr>\n",
       "    <tr>\n",
       "      <th>214</th>\n",
       "      <td>http://www.ina.fr/media/AFE86004419</td>\n",
       "      <td>/Media/AF/AFE86004419.mp4</td>\n",
       "      <td>http://www.campus-AAR.fr/sceneSegment_AFE86004...</td>\n",
       "      <td>677.0</td>\n",
       "      <td>678.0</td>\n",
       "      <td>0</td>\n",
       "    </tr>\n",
       "    <tr>\n",
       "      <th>215</th>\n",
       "      <td>http://www.ina.fr/media/AFE86004780</td>\n",
       "      <td>/Media/AF/AFE86004780.mp4</td>\n",
       "      <td>http://www.campus-AAR.fr/sceneSegment_AFE86004...</td>\n",
       "      <td>89.0</td>\n",
       "      <td>90.0</td>\n",
       "      <td>0</td>\n",
       "    </tr>\n",
       "  </tbody>\n",
       "</table>\n",
       "<p>216 rows × 6 columns</p>\n",
       "</div>"
      ],
      "text/plain": [
       "                                   media                        url  \\\n",
       "0    http://www.ina.fr/media/AFE86003905  /Media/AF/AFE86003905.mp4   \n",
       "1    http://www.ina.fr/media/AFE86003905  /Media/AF/AFE86003905.mp4   \n",
       "2    http://www.ina.fr/media/AFE86003847  /Media/AF/AFE86003847.mp4   \n",
       "3    http://www.ina.fr/media/AFE86003840  /Media/AF/AFE86003840.mp4   \n",
       "4    http://www.ina.fr/media/AFE86003905  /Media/AF/AFE86003905.mp4   \n",
       "..                                   ...                        ...   \n",
       "211  http://www.ina.fr/media/AFE86004878  /Media/AF/AFE86004878.mp4   \n",
       "212  http://www.ina.fr/media/AFE86004740  /Media/AF/AFE86004740.mp4   \n",
       "213  http://www.ina.fr/media/AFE86004580  /Media/AF/AFE86004580.mp4   \n",
       "214  http://www.ina.fr/media/AFE86004419  /Media/AF/AFE86004419.mp4   \n",
       "215  http://www.ina.fr/media/AFE86004780  /Media/AF/AFE86004780.mp4   \n",
       "\n",
       "                                               segment  start    end  \\\n",
       "0    http://www.campus-AAR.fr/sceneSegment_AFE86003...  263.0  265.0   \n",
       "1    http://www.campus-AAR.fr/sceneSegment_AFE86003...  270.0  273.0   \n",
       "2    http://www.campus-AAR.fr/sceneSegment_AFE86003...  185.0  188.0   \n",
       "3    http://www.campus-AAR.fr/sceneSegment_AFE86003...   54.0   57.0   \n",
       "4    http://www.campus-AAR.fr/sceneSegment_AFE86003...  255.0  256.0   \n",
       "..                                                 ...    ...    ...   \n",
       "211  http://www.campus-AAR.fr/sceneSegment_AFE86004...  506.0  509.0   \n",
       "212  http://www.campus-AAR.fr/sceneSegment_AFE86004...  109.0  112.0   \n",
       "213  http://www.campus-AAR.fr/sceneSegment_AFE86004...  194.0  196.0   \n",
       "214  http://www.campus-AAR.fr/sceneSegment_AFE86004...  677.0  678.0   \n",
       "215  http://www.campus-AAR.fr/sceneSegment_AFE86004...   89.0   90.0   \n",
       "\n",
       "               person  \n",
       "0    Ben Bella, Ahmed  \n",
       "1    Ben Bella, Ahmed  \n",
       "2    Ben Bella, Ahmed  \n",
       "3    Ben Bella, Ahmed  \n",
       "4    Ben Bella, Ahmed  \n",
       "..                ...  \n",
       "211                 0  \n",
       "212                 0  \n",
       "213                 0  \n",
       "214                 0  \n",
       "215                 0  \n",
       "\n",
       "[216 rows x 6 columns]"
      ]
     },
     "execution_count": 3,
     "metadata": {},
     "output_type": "execute_result"
    }
   ],
   "source": [
    "df_dataset = pd.read_csv('dataset_antract.csv')\n",
    "df_dataset"
   ]
  },
  {
   "cell_type": "code",
   "execution_count": 4,
   "metadata": {},
   "outputs": [],
   "source": [
    "from SPARQLWrapper import SPARQLWrapper, JSON\n",
    "\n",
    "ENDPOINT = \"https://okapi.ina.fr/antract/api/saphir/sparql_search\"\n",
    "sparql = SPARQLWrapper(ENDPOINT)\n",
    "sparql.setReturnFormat(JSON)\n",
    "\n",
    "with open('queries/antract_year_by_media.rq', 'r') as f:\n",
    "    query = f.read()"
   ]
  },
  {
   "cell_type": "code",
   "execution_count": 5,
   "metadata": {},
   "outputs": [],
   "source": [
    "df_dataset['label'] = df_dataset['person'].apply(lambda x: model_names[str(x)])\n",
    "def get_year(media):\n",
    "    q = query.replace('?media', f\"<{media}>\")\n",
    "    sparql.setQuery(q)\n",
    "    results = sparql.query().convert()[\"results\"][\"bindings\"]\n",
    "    date = results[0]['date']['value']\n",
    "    return int(date[0:4])\n",
    "\n",
    "df_dataset[\"year\"] = df_dataset[\"media\"].apply(get_year)"
   ]
  },
  {
   "cell_type": "code",
   "execution_count": 6,
   "metadata": {},
   "outputs": [
    {
     "data": {
      "text/plain": [
       "39"
      ]
     },
     "execution_count": 6,
     "metadata": {},
     "output_type": "execute_result"
    }
   ],
   "source": [
    "len(df_dataset[df_dataset['person']=='0'])"
   ]
  },
  {
   "cell_type": "code",
   "execution_count": 7,
   "metadata": {},
   "outputs": [
    {
     "data": {
      "text/plain": [
       "129"
      ]
     },
     "execution_count": 7,
     "metadata": {},
     "output_type": "execute_result"
    }
   ],
   "source": [
    "len(df_dataset['media'].unique())"
   ]
  },
  {
   "cell_type": "code",
   "execution_count": 8,
   "metadata": {},
   "outputs": [
    {
     "data": {
      "text/plain": [
       "198"
      ]
     },
     "execution_count": 8,
     "metadata": {},
     "output_type": "execute_result"
    }
   ],
   "source": [
    "len(df_dataset['segment'].unique())"
   ]
  },
  {
   "cell_type": "markdown",
   "metadata": {},
   "source": [
    "Load computation results (obtained using `bulk_run.py`)"
   ]
  },
  {
   "cell_type": "code",
   "execution_count": 9,
   "metadata": {},
   "outputs": [
    {
     "data": {
      "text/plain": [
       "216"
      ]
     },
     "execution_count": 9,
     "metadata": {},
     "output_type": "execute_result"
    }
   ],
   "source": [
    "with open('./intermediate/results_antract.json', 'r') as f:\n",
    "    results = json.load(f)\n",
    "len(results)"
   ]
  },
  {
   "cell_type": "code",
   "execution_count": 10,
   "metadata": {},
   "outputs": [],
   "source": [
    "clusters = [clusterize.main(clusterize.from_dict(p), confidence_threshold=0.0, merge_cluster=True, min_length=0) for p in results]"
   ]
  },
  {
   "cell_type": "code",
   "execution_count": 11,
   "metadata": {
    "scrolled": false
   },
   "outputs": [
    {
     "data": {
      "text/html": [
       "<div>\n",
       "<style scoped>\n",
       "    .dataframe tbody tr th:only-of-type {\n",
       "        vertical-align: middle;\n",
       "    }\n",
       "\n",
       "    .dataframe tbody tr th {\n",
       "        vertical-align: top;\n",
       "    }\n",
       "\n",
       "    .dataframe thead th {\n",
       "        text-align: right;\n",
       "    }\n",
       "</style>\n",
       "<table border=\"1\" class=\"dataframe\">\n",
       "  <thead>\n",
       "    <tr style=\"text-align: right;\">\n",
       "      <th></th>\n",
       "      <th>media</th>\n",
       "      <th>url</th>\n",
       "      <th>segment</th>\n",
       "      <th>start</th>\n",
       "      <th>end</th>\n",
       "      <th>person</th>\n",
       "      <th>label</th>\n",
       "      <th>year</th>\n",
       "      <th>predicted</th>\n",
       "      <th>confidence</th>\n",
       "      <th>duration</th>\n",
       "    </tr>\n",
       "  </thead>\n",
       "  <tbody>\n",
       "    <tr>\n",
       "      <th>0</th>\n",
       "      <td>http://www.ina.fr/media/AFE86003905</td>\n",
       "      <td>/Media/AF/AFE86003905.mp4</td>\n",
       "      <td>http://www.campus-AAR.fr/sceneSegment_AFE86003...</td>\n",
       "      <td>263.0</td>\n",
       "      <td>265.0</td>\n",
       "      <td>Ben Bella, Ahmed</td>\n",
       "      <td>Ahmed Ben Bella</td>\n",
       "      <td>1963</td>\n",
       "      <td>Ahmed Ben Bella</td>\n",
       "      <td>0.868389</td>\n",
       "      <td>2.0</td>\n",
       "    </tr>\n",
       "    <tr>\n",
       "      <th>1</th>\n",
       "      <td>http://www.ina.fr/media/AFE86003905</td>\n",
       "      <td>/Media/AF/AFE86003905.mp4</td>\n",
       "      <td>http://www.campus-AAR.fr/sceneSegment_AFE86003...</td>\n",
       "      <td>270.0</td>\n",
       "      <td>273.0</td>\n",
       "      <td>Ben Bella, Ahmed</td>\n",
       "      <td>Ahmed Ben Bella</td>\n",
       "      <td>1963</td>\n",
       "      <td>0.0</td>\n",
       "      <td>0.000000</td>\n",
       "      <td>3.0</td>\n",
       "    </tr>\n",
       "    <tr>\n",
       "      <th>2</th>\n",
       "      <td>http://www.ina.fr/media/AFE86003847</td>\n",
       "      <td>/Media/AF/AFE86003847.mp4</td>\n",
       "      <td>http://www.campus-AAR.fr/sceneSegment_AFE86003...</td>\n",
       "      <td>185.0</td>\n",
       "      <td>188.0</td>\n",
       "      <td>Ben Bella, Ahmed</td>\n",
       "      <td>Ahmed Ben Bella</td>\n",
       "      <td>1962</td>\n",
       "      <td>Ahmed Ben Bella</td>\n",
       "      <td>0.837472</td>\n",
       "      <td>3.0</td>\n",
       "    </tr>\n",
       "    <tr>\n",
       "      <th>3</th>\n",
       "      <td>http://www.ina.fr/media/AFE86003840</td>\n",
       "      <td>/Media/AF/AFE86003840.mp4</td>\n",
       "      <td>http://www.campus-AAR.fr/sceneSegment_AFE86003...</td>\n",
       "      <td>54.0</td>\n",
       "      <td>57.0</td>\n",
       "      <td>Ben Bella, Ahmed</td>\n",
       "      <td>Ahmed Ben Bella</td>\n",
       "      <td>1962</td>\n",
       "      <td>0.0</td>\n",
       "      <td>0.000000</td>\n",
       "      <td>3.0</td>\n",
       "    </tr>\n",
       "    <tr>\n",
       "      <th>4</th>\n",
       "      <td>http://www.ina.fr/media/AFE86003905</td>\n",
       "      <td>/Media/AF/AFE86003905.mp4</td>\n",
       "      <td>http://www.campus-AAR.fr/sceneSegment_AFE86003...</td>\n",
       "      <td>255.0</td>\n",
       "      <td>256.0</td>\n",
       "      <td>Ben Bella, Ahmed</td>\n",
       "      <td>Ahmed Ben Bella</td>\n",
       "      <td>1963</td>\n",
       "      <td>0.0</td>\n",
       "      <td>0.000000</td>\n",
       "      <td>1.0</td>\n",
       "    </tr>\n",
       "    <tr>\n",
       "      <th>...</th>\n",
       "      <td>...</td>\n",
       "      <td>...</td>\n",
       "      <td>...</td>\n",
       "      <td>...</td>\n",
       "      <td>...</td>\n",
       "      <td>...</td>\n",
       "      <td>...</td>\n",
       "      <td>...</td>\n",
       "      <td>...</td>\n",
       "      <td>...</td>\n",
       "      <td>...</td>\n",
       "    </tr>\n",
       "    <tr>\n",
       "      <th>211</th>\n",
       "      <td>http://www.ina.fr/media/AFE86004878</td>\n",
       "      <td>/Media/AF/AFE86004878.mp4</td>\n",
       "      <td>http://www.campus-AAR.fr/sceneSegment_AFE86004...</td>\n",
       "      <td>506.0</td>\n",
       "      <td>509.0</td>\n",
       "      <td>0</td>\n",
       "      <td>0</td>\n",
       "      <td>1953</td>\n",
       "      <td>0.0</td>\n",
       "      <td>0.000000</td>\n",
       "      <td>3.0</td>\n",
       "    </tr>\n",
       "    <tr>\n",
       "      <th>212</th>\n",
       "      <td>http://www.ina.fr/media/AFE86004740</td>\n",
       "      <td>/Media/AF/AFE86004740.mp4</td>\n",
       "      <td>http://www.campus-AAR.fr/sceneSegment_AFE86004...</td>\n",
       "      <td>109.0</td>\n",
       "      <td>112.0</td>\n",
       "      <td>0</td>\n",
       "      <td>0</td>\n",
       "      <td>1951</td>\n",
       "      <td>0.0</td>\n",
       "      <td>0.000000</td>\n",
       "      <td>3.0</td>\n",
       "    </tr>\n",
       "    <tr>\n",
       "      <th>213</th>\n",
       "      <td>http://www.ina.fr/media/AFE86004580</td>\n",
       "      <td>/Media/AF/AFE86004580.mp4</td>\n",
       "      <td>http://www.campus-AAR.fr/sceneSegment_AFE86004...</td>\n",
       "      <td>194.0</td>\n",
       "      <td>196.0</td>\n",
       "      <td>0</td>\n",
       "      <td>0</td>\n",
       "      <td>1948</td>\n",
       "      <td>0.0</td>\n",
       "      <td>0.000000</td>\n",
       "      <td>2.0</td>\n",
       "    </tr>\n",
       "    <tr>\n",
       "      <th>214</th>\n",
       "      <td>http://www.ina.fr/media/AFE86004419</td>\n",
       "      <td>/Media/AF/AFE86004419.mp4</td>\n",
       "      <td>http://www.campus-AAR.fr/sceneSegment_AFE86004...</td>\n",
       "      <td>677.0</td>\n",
       "      <td>678.0</td>\n",
       "      <td>0</td>\n",
       "      <td>0</td>\n",
       "      <td>1945</td>\n",
       "      <td>0.0</td>\n",
       "      <td>0.000000</td>\n",
       "      <td>1.0</td>\n",
       "    </tr>\n",
       "    <tr>\n",
       "      <th>215</th>\n",
       "      <td>http://www.ina.fr/media/AFE86004780</td>\n",
       "      <td>/Media/AF/AFE86004780.mp4</td>\n",
       "      <td>http://www.campus-AAR.fr/sceneSegment_AFE86004...</td>\n",
       "      <td>89.0</td>\n",
       "      <td>90.0</td>\n",
       "      <td>0</td>\n",
       "      <td>0</td>\n",
       "      <td>1952</td>\n",
       "      <td>0.0</td>\n",
       "      <td>0.000000</td>\n",
       "      <td>1.0</td>\n",
       "    </tr>\n",
       "  </tbody>\n",
       "</table>\n",
       "<p>216 rows × 11 columns</p>\n",
       "</div>"
      ],
      "text/plain": [
       "                                   media                        url  \\\n",
       "0    http://www.ina.fr/media/AFE86003905  /Media/AF/AFE86003905.mp4   \n",
       "1    http://www.ina.fr/media/AFE86003905  /Media/AF/AFE86003905.mp4   \n",
       "2    http://www.ina.fr/media/AFE86003847  /Media/AF/AFE86003847.mp4   \n",
       "3    http://www.ina.fr/media/AFE86003840  /Media/AF/AFE86003840.mp4   \n",
       "4    http://www.ina.fr/media/AFE86003905  /Media/AF/AFE86003905.mp4   \n",
       "..                                   ...                        ...   \n",
       "211  http://www.ina.fr/media/AFE86004878  /Media/AF/AFE86004878.mp4   \n",
       "212  http://www.ina.fr/media/AFE86004740  /Media/AF/AFE86004740.mp4   \n",
       "213  http://www.ina.fr/media/AFE86004580  /Media/AF/AFE86004580.mp4   \n",
       "214  http://www.ina.fr/media/AFE86004419  /Media/AF/AFE86004419.mp4   \n",
       "215  http://www.ina.fr/media/AFE86004780  /Media/AF/AFE86004780.mp4   \n",
       "\n",
       "                                               segment  start    end  \\\n",
       "0    http://www.campus-AAR.fr/sceneSegment_AFE86003...  263.0  265.0   \n",
       "1    http://www.campus-AAR.fr/sceneSegment_AFE86003...  270.0  273.0   \n",
       "2    http://www.campus-AAR.fr/sceneSegment_AFE86003...  185.0  188.0   \n",
       "3    http://www.campus-AAR.fr/sceneSegment_AFE86003...   54.0   57.0   \n",
       "4    http://www.campus-AAR.fr/sceneSegment_AFE86003...  255.0  256.0   \n",
       "..                                                 ...    ...    ...   \n",
       "211  http://www.campus-AAR.fr/sceneSegment_AFE86004...  506.0  509.0   \n",
       "212  http://www.campus-AAR.fr/sceneSegment_AFE86004...  109.0  112.0   \n",
       "213  http://www.campus-AAR.fr/sceneSegment_AFE86004...  194.0  196.0   \n",
       "214  http://www.campus-AAR.fr/sceneSegment_AFE86004...  677.0  678.0   \n",
       "215  http://www.campus-AAR.fr/sceneSegment_AFE86004...   89.0   90.0   \n",
       "\n",
       "               person            label  year        predicted  confidence  \\\n",
       "0    Ben Bella, Ahmed  Ahmed Ben Bella  1963  Ahmed Ben Bella    0.868389   \n",
       "1    Ben Bella, Ahmed  Ahmed Ben Bella  1963              0.0    0.000000   \n",
       "2    Ben Bella, Ahmed  Ahmed Ben Bella  1962  Ahmed Ben Bella    0.837472   \n",
       "3    Ben Bella, Ahmed  Ahmed Ben Bella  1962              0.0    0.000000   \n",
       "4    Ben Bella, Ahmed  Ahmed Ben Bella  1963              0.0    0.000000   \n",
       "..                ...              ...   ...              ...         ...   \n",
       "211                 0                0  1953              0.0    0.000000   \n",
       "212                 0                0  1951              0.0    0.000000   \n",
       "213                 0                0  1948              0.0    0.000000   \n",
       "214                 0                0  1945              0.0    0.000000   \n",
       "215                 0                0  1952              0.0    0.000000   \n",
       "\n",
       "     duration  \n",
       "0         2.0  \n",
       "1         3.0  \n",
       "2         3.0  \n",
       "3         3.0  \n",
       "4         1.0  \n",
       "..        ...  \n",
       "211       3.0  \n",
       "212       3.0  \n",
       "213       2.0  \n",
       "214       1.0  \n",
       "215       1.0  \n",
       "\n",
       "[216 rows x 11 columns]"
      ]
     },
     "execution_count": 11,
     "metadata": {},
     "output_type": "execute_result"
    }
   ],
   "source": [
    "l = len(df_dataset)\n",
    "df_dataset['predicted'] = np.zeros(l)\n",
    "df_dataset['confidence'] = np.zeros(l)\n",
    "durations = []\n",
    "\n",
    "for i, x in df_dataset.iterrows():\n",
    "    cur = clusters[i]\n",
    "    start = x['start']\n",
    "    end = x['end']\n",
    "    b = np.arange(start, end)\n",
    "    durations.append(end-start)\n",
    "\n",
    "    found = False\n",
    "    for c in cur:\n",
    "        a = np.arange(np.floor(c['start_npt']), np.ceil(c['end_npt']))\n",
    "\n",
    "        if len(np.intersect1d(a,b)) > 0:\n",
    "            df_dataset.loc[i, 'predicted'] = c['name']\n",
    "            df_dataset.loc[i, 'confidence'] = float(c['confidence'])\n",
    "\n",
    "            if x['label'] == c['name']:\n",
    "                break\n",
    "\n",
    "df_dataset['duration'] = durations\n",
    "df_dataset"
   ]
  },
  {
   "cell_type": "code",
   "execution_count": 12,
   "metadata": {},
   "outputs": [
    {
     "data": {
      "text/plain": [
       "198"
      ]
     },
     "execution_count": 12,
     "metadata": {},
     "output_type": "execute_result"
    }
   ],
   "source": [
    "len(df_dataset['segment'].unique())"
   ]
  },
  {
   "cell_type": "code",
   "execution_count": 13,
   "metadata": {},
   "outputs": [
    {
     "data": {
      "text/plain": [
       "count    216.000000\n",
       "mean       4.321759\n",
       "std        5.830907\n",
       "min        1.000000\n",
       "25%        2.000000\n",
       "50%        3.000000\n",
       "75%        4.000000\n",
       "max       53.000000\n",
       "Name: duration, dtype: float64"
      ]
     },
     "execution_count": 13,
     "metadata": {},
     "output_type": "execute_result"
    }
   ],
   "source": [
    "df_dataset['duration'].describe()"
   ]
  },
  {
   "cell_type": "code",
   "execution_count": 14,
   "metadata": {},
   "outputs": [
    {
     "data": {
      "text/plain": [
       "<AxesSubplot:ylabel='Frequency'>"
      ]
     },
     "execution_count": 14,
     "metadata": {},
     "output_type": "execute_result"
    },
    {
     "data": {
      "image/png": "[encoded data removed]",
      "text/plain": [
       "<Figure size 432x288 with 1 Axes>"
      ]
     },
     "metadata": {
      "needs_background": "light"
     },
     "output_type": "display_data"
    }
   ],
   "source": [
    "df_dataset['duration'].plot.hist(bins=20)"
   ]
  },
  {
   "cell_type": "code",
   "execution_count": 15,
   "metadata": {},
   "outputs": [
    {
     "data": {
      "application/vnd.jupyter.widget-view+json": {
       "model_id": "3b18a2cb50d44941a002eaa18eceb8e5",
       "version_major": 2,
       "version_minor": 0
      },
      "text/plain": [
       "interactive(children=(FloatSlider(value=0.6, description='threshold', max=1.0, step=0.05), Output()), _dom_cla…"
      ]
     },
     "metadata": {},
     "output_type": "display_data"
    }
   ],
   "source": [
    "classes = [str(p) for p in df_dataset['label'].unique()]\n",
    "\n",
    "def compute_metrics(threshold=0.5, year=None):\n",
    "    dts = df_dataset\n",
    "    if year is not None:\n",
    "        dts = df_dataset[df_dataset['year'].between(year -5, year+5)]\n",
    "        \n",
    "    label = np.array([str(p) for p in dts['label']])\n",
    "    predicted = np.array([str(p['predicted']) if p['confidence'] > threshold else '0' for i, p in dts.iterrows() ])\n",
    "    \n",
    "    return score(label, predicted, labels=classes, zero_division=1)\n",
    "\n",
    "@widgets.interact(threshold=widgets.FloatSlider(min=0, max=1, step=0.05, value=0.60), \n",
    "                  year=widgets.fixed(None))\n",
    "def show_metrics(threshold=0.5, year=None):\n",
    "    precision, recall, fscore, support = compute_metrics(threshold, year)\n",
    "    \n",
    "    dfx = pd.DataFrame()\n",
    "    dfx['index']= classes\n",
    "    dfx['precision'] =  precision\n",
    "    dfx['recall'] =  recall\n",
    "    dfx['fscore'] =  fscore\n",
    "    dfx['support'] =  support\n",
    "\n",
    "    tot = {\n",
    "        'index' : 'tot (excluded 0)',\n",
    "        'precision': np.average(precision[0:-1], weights=support[0:-1]),\n",
    "        'recall' : np.average(recall[0:-1], weights=support[0:-1]),\n",
    "        'fscore' : np.average(fscore[0:-1], weights=support[0:-1]),\n",
    "        'support' : np.sum(support)\n",
    "    }\n",
    "    dfx = dfx.append(pd.DataFrame(tot, index=[7]))\n",
    "    return dfx"
   ]
  },
  {
   "cell_type": "code",
   "execution_count": 16,
   "metadata": {},
   "outputs": [],
   "source": [
    "precision =[]\n",
    "recall =[]\n",
    "fscore =[]\n",
    "\n",
    "_range = np.arange(0, 0.8, 0.05)\n",
    "for threshold in _range:\n",
    "    p, r, f, support = compute_metrics(threshold)\n",
    "    precision.append(np.average(p[0:-1], weights=support[0:-1]))\n",
    "    recall.append(np.average(r[0:-1], weights=support[0:-1]))\n",
    "    fscore.append(np.average(f[0:-1], weights=support[0:-1]))"
   ]
  },
  {
   "cell_type": "code",
   "execution_count": 17,
   "metadata": {},
   "outputs": [
    {
     "data": {
      "text/plain": [
       "0.0"
      ]
     },
     "execution_count": 17,
     "metadata": {},
     "output_type": "execute_result"
    }
   ],
   "source": [
    "np.argmax(fscore) * 0.05"
   ]
  },
  {
   "cell_type": "code",
   "execution_count": 18,
   "metadata": {},
   "outputs": [
    {
     "data": {
      "image/png": "[encoded data removed]",
      "text/plain": [
       "<Figure size 432x288 with 1 Axes>"
      ]
     },
     "metadata": {
      "needs_background": "light"
     },
     "output_type": "display_data"
    }
   ],
   "source": [
    "import matplotlib.pyplot as plt\n",
    "\n",
    "fig, ax = plt.subplots()  # Create a figure and an axes.\n",
    "ax.plot(_range, precision, label='precision')  # Plot some data on the axes.\n",
    "ax.plot(_range, recall, label='recall')  # Plot more data on the axes...\n",
    "ax.plot(_range, fscore, label='f-score')  # ... and some more.\n",
    "ax.set_xlabel('confidence treshold')  # Add an x-label to the axes.\n",
    "ax.set_ylabel('score')  # Add a y-label to the axes.\n",
    "ax.legend()  # Add a legend\n",
    "plt.savefig('plot/antract_facerec_precision.pdf')  "
   ]
  },
  {
   "cell_type": "markdown",
   "metadata": {},
   "source": [
    "0.5 looks like the best threshold"
   ]
  },
  {
   "cell_type": "code",
   "execution_count": 19,
   "metadata": {},
   "outputs": [
    {
     "data": {
      "text/html": [
       "<div>\n",
       "<style scoped>\n",
       "    .dataframe tbody tr th:only-of-type {\n",
       "        vertical-align: middle;\n",
       "    }\n",
       "\n",
       "    .dataframe tbody tr th {\n",
       "        vertical-align: top;\n",
       "    }\n",
       "\n",
       "    .dataframe thead th {\n",
       "        text-align: right;\n",
       "    }\n",
       "</style>\n",
       "<table border=\"1\" class=\"dataframe\">\n",
       "  <thead>\n",
       "    <tr style=\"text-align: right;\">\n",
       "      <th></th>\n",
       "      <th>index</th>\n",
       "      <th>precision</th>\n",
       "      <th>recall</th>\n",
       "      <th>fscore</th>\n",
       "      <th>support</th>\n",
       "    </tr>\n",
       "  </thead>\n",
       "  <tbody>\n",
       "    <tr>\n",
       "      <th>0</th>\n",
       "      <td>Ahmed Ben Bella</td>\n",
       "      <td>1.000000</td>\n",
       "      <td>0.461538</td>\n",
       "      <td>0.631579</td>\n",
       "      <td>13</td>\n",
       "    </tr>\n",
       "    <tr>\n",
       "      <th>1</th>\n",
       "      <td>François Mitterrand</td>\n",
       "      <td>1.000000</td>\n",
       "      <td>0.923077</td>\n",
       "      <td>0.960000</td>\n",
       "      <td>13</td>\n",
       "    </tr>\n",
       "    <tr>\n",
       "      <th>2</th>\n",
       "      <td>Pierre Mendès France</td>\n",
       "      <td>1.000000</td>\n",
       "      <td>0.615385</td>\n",
       "      <td>0.761905</td>\n",
       "      <td>13</td>\n",
       "    </tr>\n",
       "    <tr>\n",
       "      <th>3</th>\n",
       "      <td>Guy Mollet</td>\n",
       "      <td>0.923077</td>\n",
       "      <td>0.923077</td>\n",
       "      <td>0.923077</td>\n",
       "      <td>13</td>\n",
       "    </tr>\n",
       "    <tr>\n",
       "      <th>4</th>\n",
       "      <td>Georges Bidault</td>\n",
       "      <td>0.833333</td>\n",
       "      <td>0.714286</td>\n",
       "      <td>0.769231</td>\n",
       "      <td>14</td>\n",
       "    </tr>\n",
       "    <tr>\n",
       "      <th>5</th>\n",
       "      <td>Charles De Gaulle</td>\n",
       "      <td>1.000000</td>\n",
       "      <td>0.578947</td>\n",
       "      <td>0.733333</td>\n",
       "      <td>19</td>\n",
       "    </tr>\n",
       "    <tr>\n",
       "      <th>6</th>\n",
       "      <td>Nikita Khrouchtchev</td>\n",
       "      <td>1.000000</td>\n",
       "      <td>0.384615</td>\n",
       "      <td>0.555556</td>\n",
       "      <td>13</td>\n",
       "    </tr>\n",
       "    <tr>\n",
       "      <th>7</th>\n",
       "      <td>Vincent Auriol</td>\n",
       "      <td>1.000000</td>\n",
       "      <td>0.461538</td>\n",
       "      <td>0.631579</td>\n",
       "      <td>13</td>\n",
       "    </tr>\n",
       "    <tr>\n",
       "      <th>8</th>\n",
       "      <td>Konrad Adenauer</td>\n",
       "      <td>1.000000</td>\n",
       "      <td>0.538462</td>\n",
       "      <td>0.700000</td>\n",
       "      <td>13</td>\n",
       "    </tr>\n",
       "    <tr>\n",
       "      <th>9</th>\n",
       "      <td>Dwight Eisenhower</td>\n",
       "      <td>0.857143</td>\n",
       "      <td>0.461538</td>\n",
       "      <td>0.600000</td>\n",
       "      <td>13</td>\n",
       "    </tr>\n",
       "    <tr>\n",
       "      <th>10</th>\n",
       "      <td>Elisabeth II</td>\n",
       "      <td>1.000000</td>\n",
       "      <td>0.714286</td>\n",
       "      <td>0.833333</td>\n",
       "      <td>14</td>\n",
       "    </tr>\n",
       "    <tr>\n",
       "      <th>11</th>\n",
       "      <td>Viatcheslav Molotov</td>\n",
       "      <td>1.000000</td>\n",
       "      <td>0.230769</td>\n",
       "      <td>0.375000</td>\n",
       "      <td>13</td>\n",
       "    </tr>\n",
       "    <tr>\n",
       "      <th>12</th>\n",
       "      <td>Georges Pompidou</td>\n",
       "      <td>1.000000</td>\n",
       "      <td>0.692308</td>\n",
       "      <td>0.818182</td>\n",
       "      <td>13</td>\n",
       "    </tr>\n",
       "    <tr>\n",
       "      <th>13</th>\n",
       "      <td>0</td>\n",
       "      <td>0.355140</td>\n",
       "      <td>0.974359</td>\n",
       "      <td>0.520548</td>\n",
       "      <td>39</td>\n",
       "    </tr>\n",
       "    <tr>\n",
       "      <th>7</th>\n",
       "      <td>tot (excluded 0)</td>\n",
       "      <td>0.970675</td>\n",
       "      <td>0.593220</td>\n",
       "      <td>0.716433</td>\n",
       "      <td>216</td>\n",
       "    </tr>\n",
       "  </tbody>\n",
       "</table>\n",
       "</div>"
      ],
      "text/plain": [
       "                   index  precision    recall    fscore  support\n",
       "0        Ahmed Ben Bella   1.000000  0.461538  0.631579       13\n",
       "1    François Mitterrand   1.000000  0.923077  0.960000       13\n",
       "2   Pierre Mendès France   1.000000  0.615385  0.761905       13\n",
       "3             Guy Mollet   0.923077  0.923077  0.923077       13\n",
       "4        Georges Bidault   0.833333  0.714286  0.769231       14\n",
       "5      Charles De Gaulle   1.000000  0.578947  0.733333       19\n",
       "6    Nikita Khrouchtchev   1.000000  0.384615  0.555556       13\n",
       "7         Vincent Auriol   1.000000  0.461538  0.631579       13\n",
       "8        Konrad Adenauer   1.000000  0.538462  0.700000       13\n",
       "9      Dwight Eisenhower   0.857143  0.461538  0.600000       13\n",
       "10          Elisabeth II   1.000000  0.714286  0.833333       14\n",
       "11   Viatcheslav Molotov   1.000000  0.230769  0.375000       13\n",
       "12      Georges Pompidou   1.000000  0.692308  0.818182       13\n",
       "13                     0   0.355140  0.974359  0.520548       39\n",
       "7       tot (excluded 0)   0.970675  0.593220  0.716433      216"
      ]
     },
     "execution_count": 19,
     "metadata": {},
     "output_type": "execute_result"
    }
   ],
   "source": [
    "show_metrics(0.5)"
   ]
  },
  {
   "cell_type": "code",
   "execution_count": 20,
   "metadata": {},
   "outputs": [],
   "source": [
    "with open('plot/latex_antract.txt', 'w') as f:\n",
    "    show_metrics(0.5).to_latex(f, index=False)"
   ]
  },
  {
   "cell_type": "code",
   "execution_count": 21,
   "metadata": {},
   "outputs": [
    {
     "data": {
      "application/vnd.jupyter.widget-view+json": {
       "model_id": "6214397105434fd79b0431e219b54619",
       "version_major": 2,
       "version_minor": 0
      },
      "text/plain": [
       "interactive(children=(Dropdown(description='Person:', options=('Ahmed Ben Bella', 'François Mitterrand', 'Pier…"
      ]
     },
     "metadata": {},
     "output_type": "display_data"
    }
   ],
   "source": [
    "def filter_by(prop):\n",
    "    def filter_with(what):\n",
    "        return df_dataset[df_dataset[prop] == what]\n",
    "    return filter_with\n",
    "    \n",
    "widgets.interact(filter_by('label'), what=widgets.Dropdown(\n",
    "    options=df_dataset['label'].unique(),\n",
    "    description='Person:',\n",
    "));"
   ]
  },
  {
   "cell_type": "code",
   "execution_count": 22,
   "metadata": {},
   "outputs": [
    {
     "data": {
      "text/plain": [
       "count     216.000000\n",
       "mean     1956.976852\n",
       "std         6.910351\n",
       "min      1945.000000\n",
       "25%      1951.750000\n",
       "50%      1956.500000\n",
       "75%      1963.000000\n",
       "max      1968.000000\n",
       "Name: year, dtype: float64"
      ]
     },
     "execution_count": 22,
     "metadata": {},
     "output_type": "execute_result"
    }
   ],
   "source": [
    "df_dataset['year'].describe()"
   ]
  },
  {
   "cell_type": "code",
   "execution_count": 23,
   "metadata": {},
   "outputs": [],
   "source": [
    "precision_year =[]\n",
    "recall_year =[]\n",
    "fscore_year =[]\n",
    "support_year =[]\n",
    "\n",
    "_range = np.arange(1945, 1970, 5)\n",
    "for year in _range:\n",
    "    p, r, f, support = compute_metrics(0.6, year)\n",
    "    precision_year.append(np.average(p[0:-1], weights=support[0:-1]))\n",
    "    recall_year.append(np.average(r[0:-1], weights=support[0:-1]))\n",
    "    fscore_year.append(np.average(f[0:-1], weights=support[0:-1]))\n",
    "    support_year.append(np.sum(f[0:-1]))"
   ]
  },
  {
   "cell_type": "code",
   "execution_count": 24,
   "metadata": {},
   "outputs": [
    {
     "data": {
      "image/png": "[encoded data removed]",
      "text/plain": [
       "<Figure size 432x288 with 1 Axes>"
      ]
     },
     "metadata": {
      "needs_background": "light"
     },
     "output_type": "display_data"
    }
   ],
   "source": [
    "fig, ax = plt.subplots()  # Create a figure and an axes.\n",
    "ax.plot(_range, precision_year, label='precision')  # Plot some data on the axes.\n",
    "ax.plot(_range, recall_year, label='recall')  # Plot more data on the axes...\n",
    "ax.plot(_range, fscore_year, label='f-score')  # ... and some more.\n",
    "\n",
    "ax.set_xlabel('year')  # Add an x-label to the axes.\n",
    "ax.set_ylabel('score')  # Add a y-label to the axes.\n",
    "ax.legend()  # Add a legend\n",
    "plt.savefig('plot/antract_facerec_precision_year.pdf')  "
   ]
  },
  {
   "cell_type": "code",
   "execution_count": 25,
   "metadata": {},
   "outputs": [
    {
     "name": "stdout",
     "output_type": "stream",
     "text": [
      "- Ahmed Ben Bella : 1962\n",
      "- François Mitterrand : 1961\n",
      "- Pierre Mendès France : 1958\n",
      "- Guy Mollet : 1956\n",
      "- Georges Bidault : 1950\n",
      "- Charles De Gaulle : 1962\n",
      "- Nikita Khrouchtchev : 1959\n",
      "- Vincent Auriol : 1953\n",
      "- Konrad Adenauer : 1959\n",
      "- Dwight Eisenhower : 1953\n",
      "- Elisabeth II : 1948\n",
      "- Viatcheslav Molotov : 1951\n",
      "- Georges Pompidou : 1965\n",
      "- 0 : 1957\n"
     ]
    }
   ],
   "source": [
    "for x in df_dataset['label'].unique():\n",
    "    d = filter_by('label')(x)\n",
    "    print('- %s : %2.f' % (x, d[\"year\"].mean()))"
   ]
  },
  {
   "cell_type": "code",
   "execution_count": 26,
   "metadata": {},
   "outputs": [
    {
     "data": {
      "application/vnd.jupyter.widget-view+json": {
       "model_id": "0aafbdc635ce4d4d874c7accaa1ffde0",
       "version_major": 2,
       "version_minor": 0
      },
      "text/plain": [
       "interactive(children=(Dropdown(description='Year:', options=(1945, 1946, 1947, 1948, 1949, 1950, 1951, 1952, 1…"
      ]
     },
     "metadata": {},
     "output_type": "display_data"
    }
   ],
   "source": [
    "widgets.interact(filter_by('year'), what=widgets.Dropdown(\n",
    "    options=sorted(df_dataset['year'].unique()),\n",
    "    description='Year:',\n",
    "));"
   ]
  },
  {
   "cell_type": "code",
   "execution_count": 27,
   "metadata": {},
   "outputs": [
    {
     "data": {
      "application/vnd.jupyter.widget-view+json": {
       "model_id": "079ff232b28d4096aec3dcad204c8ed6",
       "version_major": 2,
       "version_minor": 0
      },
      "text/plain": [
       "interactive(children=(Dropdown(description='Media:', options=('http://www.ina.fr/media/AFE86003399', 'http://w…"
      ]
     },
     "metadata": {},
     "output_type": "display_data"
    }
   ],
   "source": [
    "widgets.interact(filter_by('media'), what=widgets.Dropdown(\n",
    "    options=sorted(df_dataset['media'].unique()),\n",
    "    description='Media:',\n",
    "));"
   ]
  },
  {
   "cell_type": "code",
   "execution_count": 28,
   "metadata": {},
   "outputs": [
    {
     "data": {
      "text/plain": [
       "[{'name': 'Viatcheslav Molotov',\n",
       "  'project': 'antract',\n",
       "  'track_id': 1491,\n",
       "  'confidence': 0.26494732081855216,\n",
       "  'locator': 'http://www.ina.fr/media/AFE86003480',\n",
       "  'bounding': {'x': 364,\n",
       "   'y': 105,\n",
       "   'w': 95,\n",
       "   'h': 118,\n",
       "   'xywh': '364,105,95,118'},\n",
       "  'rect': [364.0, 105.0, 459.0, 223.0],\n",
       "  'frame_size': [384, 512],\n",
       "  'end_sample': 4,\n",
       "  'start_sample': 4,\n",
       "  'end_frame': 8850,\n",
       "  'start_frame': 8850,\n",
       "  'end_npt': 354.0,\n",
       "  'start_npt': 354.0,\n",
       "  'merged_tracks': [1491]},\n",
       " {'name': 'Konrad Adenauer',\n",
       "  'project': 'antract',\n",
       "  'track_id': 1489,\n",
       "  'confidence': 0.2687614426376399,\n",
       "  'locator': 'http://www.ina.fr/media/AFE86003480',\n",
       "  'bounding': {'x': 392,\n",
       "   'y': 232,\n",
       "   'w': 90,\n",
       "   'h': 108,\n",
       "   'xywh': '392,232,90,108'},\n",
       "  'rect': [392.0, 232.0, 482.0, 340.0],\n",
       "  'frame_size': [384, 512],\n",
       "  'end_sample': 1,\n",
       "  'start_sample': 1,\n",
       "  'end_frame': 8775,\n",
       "  'start_frame': 8775,\n",
       "  'end_npt': 351.0,\n",
       "  'start_npt': 351.0,\n",
       "  'merged_tracks': [1489]},\n",
       " {'name': 'Georges Pompidou',\n",
       "  'project': 'antract',\n",
       "  'track_id': 1493,\n",
       "  'confidence': 0.03477259114889516,\n",
       "  'locator': 'http://www.ina.fr/media/AFE86003480',\n",
       "  'bounding': {'x': 209, 'y': 99, 'w': 18, 'h': 25, 'xywh': '209,99,18,25'},\n",
       "  'rect': [209.0, 99.0, 227.0, 124.0],\n",
       "  'frame_size': [384, 512],\n",
       "  'end_sample': 5,\n",
       "  'start_sample': 5,\n",
       "  'end_frame': 8875,\n",
       "  'start_frame': 8875,\n",
       "  'end_npt': 355.0,\n",
       "  'start_npt': 355.0,\n",
       "  'merged_tracks': [1493]},\n",
       " {'name': 'Dwight Eisenhower',\n",
       "  'project': 'antract',\n",
       "  'track_id': 1492,\n",
       "  'confidence': 0.06767768271701335,\n",
       "  'locator': 'http://www.ina.fr/media/AFE86003480',\n",
       "  'bounding': {'x': 317, 'y': 197, 'w': 69, 'h': 80, 'xywh': '317,197,69,80'},\n",
       "  'rect': [317.0, 197.0, 386.0, 277.0],\n",
       "  'frame_size': [384, 512],\n",
       "  'end_sample': 4,\n",
       "  'start_sample': 4,\n",
       "  'end_frame': 8850,\n",
       "  'start_frame': 8850,\n",
       "  'end_npt': 354.0,\n",
       "  'start_npt': 354.0,\n",
       "  'merged_tracks': [1492]}]"
      ]
     },
     "execution_count": 28,
     "metadata": {},
     "output_type": "execute_result"
    }
   ],
   "source": [
    "clusterize.main(clusterize.from_dict(results[157]), confidence_threshold=0.0, dominant_ratio=0.0, weighted_dominant_ratio=0.0, merge_cluster=True, min_length=0)"
   ]
  },
  {
   "cell_type": "code",
   "execution_count": 29,
   "metadata": {},
   "outputs": [
    {
     "data": {
      "text/plain": [
       "http://www.ina.fr/media/AFE86004079    6\n",
       "http://www.ina.fr/media/AFE86004588    5\n",
       "http://www.ina.fr/media/AFE86004419    5\n",
       "http://www.ina.fr/media/AFE86004018    4\n",
       "http://www.ina.fr/media/AFE86003966    4\n",
       "                                      ..\n",
       "http://www.ina.fr/media/AFE86004865    1\n",
       "http://www.ina.fr/media/AFE86003845    1\n",
       "http://www.ina.fr/media/AFE86004433    1\n",
       "http://www.ina.fr/media/AFE86004430    1\n",
       "http://www.ina.fr/media/AFE86003691    1\n",
       "Name: media, Length: 129, dtype: int64"
      ]
     },
     "execution_count": 29,
     "metadata": {},
     "output_type": "execute_result"
    }
   ],
   "source": [
    "df_dataset['media'].value_counts()"
   ]
  }
 ],
 "metadata": {
  "kernelspec": {
   "display_name": "Python 3",
   "language": "python",
   "name": "python3"
  },
  "language_info": {
   "codemirror_mode": {
    "name": "ipython",
    "version": 3
   },
   "file_extension": ".py",
   "mimetype": "text/x-python",
   "name": "python",
   "nbconvert_exporter": "python",
   "pygments_lexer": "ipython3",
   "version": "3.7.7"
  }
 },
 "nbformat": 4,
 "nbformat_minor": 1
}
