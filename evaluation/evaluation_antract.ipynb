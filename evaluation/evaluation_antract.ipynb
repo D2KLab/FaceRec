{
 "cells": [
  {
   "cell_type": "markdown",
   "metadata": {},
   "source": [
    "ANTRACT Dataset :  Evaluation\n",
    "===============================\n",
    "\n",
    "This notebook serves as evaluation for the face recognition system."
   ]
  },
  {
   "cell_type": "code",
   "execution_count": 1,
   "metadata": {
    "pycharm": {
     "is_executing": true
    }
   },
   "outputs": [],
   "source": [
    "import os\n",
    "import sys\n",
    "sys.path.insert(0, os.path.abspath('../'))\n",
    "\n",
    "import json\n",
    "import numpy as np\n",
    "import pandas as pd\n",
    "import matplotlib.pyplot as plt\n",
    "\n",
    "import ipywidgets as widgets\n",
    "from sklearn.metrics import precision_recall_fscore_support as score\n",
    "\n",
    "\n",
    "from src import clusterize"
   ]
  },
  {
   "cell_type": "code",
   "execution_count": 2,
   "metadata": {},
   "outputs": [],
   "source": [
    "model_names = { # for the discrepancies for the model names and the dataset ones\n",
    "    'Gaulle, Charles de'           : 'Charles De Gaulle',\n",
    "    'Auriol, Vincent'              : 'Vincent Auriol',\n",
    "    'Pompidou, Georges'            : 'Georges Pompidou',\n",
    "    'Bidault, Georges'             : 'Georges Bidault',\n",
    "    'Eisenhower, Dwight David'     : 'Dwight Eisenhower',\n",
    "    'Eisenhower, Dwight'           : 'Dwight Eisenhower',\n",
    "    'Khrouchtchev, Nikita'         : 'Nikita Khrouchtchev',\n",
    "    'Mollet, Guy'                  : 'Guy Mollet',\n",
    "    'Adenauer, Konrad'             : 'Konrad Adenauer',\n",
    "    'Molotov, Viatcheslav'         : 'Viatcheslav Molotov',\n",
    "    'Mendès France, Pierre'        : 'Pierre Mendès France',\n",
    "    \"Elizabeth d'Angleterre\"       : 'Elisabeth II',\n",
    "    'Mitterrand, François'         : 'François Mitterrand',\n",
    "    'Ben Bella, Ahmed'             : 'Ahmed Ben Bella',\n",
    "    '0'                            : '0'\n",
    "}"
   ]
  },
  {
   "cell_type": "markdown",
   "metadata": {},
   "source": [
    "Load the original dataset"
   ]
  },
  {
   "cell_type": "code",
   "execution_count": 3,
   "metadata": {},
   "outputs": [
    {
     "data": {
      "text/html": [
       "<div>\n",
       "<style scoped>\n",
       "    .dataframe tbody tr th:only-of-type {\n",
       "        vertical-align: middle;\n",
       "    }\n",
       "\n",
       "    .dataframe tbody tr th {\n",
       "        vertical-align: top;\n",
       "    }\n",
       "\n",
       "    .dataframe thead th {\n",
       "        text-align: right;\n",
       "    }\n",
       "</style>\n",
       "<table border=\"1\" class=\"dataframe\">\n",
       "  <thead>\n",
       "    <tr style=\"text-align: right;\">\n",
       "      <th></th>\n",
       "      <th>media</th>\n",
       "      <th>url</th>\n",
       "      <th>segment</th>\n",
       "      <th>start</th>\n",
       "      <th>end</th>\n",
       "      <th>person</th>\n",
       "    </tr>\n",
       "  </thead>\n",
       "  <tbody>\n",
       "    <tr>\n",
       "      <th>0</th>\n",
       "      <td>http://www.ina.fr/media/AFE86003905</td>\n",
       "      <td>/Media/AF/AFE86003905.mp4</td>\n",
       "      <td>http://www.campus-AAR.fr/sceneSegment_AFE86003...</td>\n",
       "      <td>263</td>\n",
       "      <td>265</td>\n",
       "      <td>Ben Bella, Ahmed</td>\n",
       "    </tr>\n",
       "    <tr>\n",
       "      <th>1</th>\n",
       "      <td>http://www.ina.fr/media/AFE86003905</td>\n",
       "      <td>/Media/AF/AFE86003905.mp4</td>\n",
       "      <td>http://www.campus-AAR.fr/sceneSegment_AFE86003...</td>\n",
       "      <td>270</td>\n",
       "      <td>272</td>\n",
       "      <td>Ben Bella, Ahmed</td>\n",
       "    </tr>\n",
       "    <tr>\n",
       "      <th>2</th>\n",
       "      <td>http://www.ina.fr/media/AFE86003847</td>\n",
       "      <td>/Media/AF/AFE86003847.mp4</td>\n",
       "      <td>http://www.campus-AAR.fr/sceneSegment_AFE86003...</td>\n",
       "      <td>185</td>\n",
       "      <td>188</td>\n",
       "      <td>Ben Bella, Ahmed</td>\n",
       "    </tr>\n",
       "    <tr>\n",
       "      <th>3</th>\n",
       "      <td>http://www.ina.fr/media/AFE86003840</td>\n",
       "      <td>/Media/AF/AFE86003840.mp4</td>\n",
       "      <td>http://www.campus-AAR.fr/sceneSegment_AFE86003...</td>\n",
       "      <td>54</td>\n",
       "      <td>57</td>\n",
       "      <td>Ben Bella, Ahmed</td>\n",
       "    </tr>\n",
       "    <tr>\n",
       "      <th>4</th>\n",
       "      <td>http://www.ina.fr/media/AFE86003905</td>\n",
       "      <td>/Media/AF/AFE86003905.mp4</td>\n",
       "      <td>http://www.campus-AAR.fr/sceneSegment_AFE86003...</td>\n",
       "      <td>255</td>\n",
       "      <td>256</td>\n",
       "      <td>Ben Bella, Ahmed</td>\n",
       "    </tr>\n",
       "    <tr>\n",
       "      <th>...</th>\n",
       "      <td>...</td>\n",
       "      <td>...</td>\n",
       "      <td>...</td>\n",
       "      <td>...</td>\n",
       "      <td>...</td>\n",
       "      <td>...</td>\n",
       "    </tr>\n",
       "    <tr>\n",
       "      <th>211</th>\n",
       "      <td>http://www.ina.fr/media/AFE86004878</td>\n",
       "      <td>/Media/AF/AFE86004878.mp4</td>\n",
       "      <td>http://www.campus-AAR.fr/sceneSegment_AFE86004...</td>\n",
       "      <td>506</td>\n",
       "      <td>509</td>\n",
       "      <td>0</td>\n",
       "    </tr>\n",
       "    <tr>\n",
       "      <th>212</th>\n",
       "      <td>http://www.ina.fr/media/AFE86004740</td>\n",
       "      <td>/Media/AF/AFE86004740.mp4</td>\n",
       "      <td>http://www.campus-AAR.fr/sceneSegment_AFE86004...</td>\n",
       "      <td>109</td>\n",
       "      <td>112</td>\n",
       "      <td>0</td>\n",
       "    </tr>\n",
       "    <tr>\n",
       "      <th>213</th>\n",
       "      <td>http://www.ina.fr/media/AFE86004580</td>\n",
       "      <td>/Media/AF/AFE86004580.mp4</td>\n",
       "      <td>http://www.campus-AAR.fr/sceneSegment_AFE86004...</td>\n",
       "      <td>194</td>\n",
       "      <td>196</td>\n",
       "      <td>0</td>\n",
       "    </tr>\n",
       "    <tr>\n",
       "      <th>214</th>\n",
       "      <td>http://www.ina.fr/media/AFE86004419</td>\n",
       "      <td>/Media/AF/AFE86004419.mp4</td>\n",
       "      <td>http://www.campus-AAR.fr/sceneSegment_AFE86004...</td>\n",
       "      <td>677</td>\n",
       "      <td>678</td>\n",
       "      <td>0</td>\n",
       "    </tr>\n",
       "    <tr>\n",
       "      <th>215</th>\n",
       "      <td>http://www.ina.fr/media/AFE86004780</td>\n",
       "      <td>/Media/AF/AFE86004780.mp4</td>\n",
       "      <td>http://www.campus-AAR.fr/sceneSegment_AFE86004...</td>\n",
       "      <td>89</td>\n",
       "      <td>90</td>\n",
       "      <td>0</td>\n",
       "    </tr>\n",
       "  </tbody>\n",
       "</table>\n",
       "<p>216 rows × 6 columns</p>\n",
       "</div>"
      ],
      "text/plain": [
       "                                   media                        url  \\\n",
       "0    http://www.ina.fr/media/AFE86003905  /Media/AF/AFE86003905.mp4   \n",
       "1    http://www.ina.fr/media/AFE86003905  /Media/AF/AFE86003905.mp4   \n",
       "2    http://www.ina.fr/media/AFE86003847  /Media/AF/AFE86003847.mp4   \n",
       "3    http://www.ina.fr/media/AFE86003840  /Media/AF/AFE86003840.mp4   \n",
       "4    http://www.ina.fr/media/AFE86003905  /Media/AF/AFE86003905.mp4   \n",
       "..                                   ...                        ...   \n",
       "211  http://www.ina.fr/media/AFE86004878  /Media/AF/AFE86004878.mp4   \n",
       "212  http://www.ina.fr/media/AFE86004740  /Media/AF/AFE86004740.mp4   \n",
       "213  http://www.ina.fr/media/AFE86004580  /Media/AF/AFE86004580.mp4   \n",
       "214  http://www.ina.fr/media/AFE86004419  /Media/AF/AFE86004419.mp4   \n",
       "215  http://www.ina.fr/media/AFE86004780  /Media/AF/AFE86004780.mp4   \n",
       "\n",
       "                                               segment  start  end  \\\n",
       "0    http://www.campus-AAR.fr/sceneSegment_AFE86003...    263  265   \n",
       "1    http://www.campus-AAR.fr/sceneSegment_AFE86003...    270  272   \n",
       "2    http://www.campus-AAR.fr/sceneSegment_AFE86003...    185  188   \n",
       "3    http://www.campus-AAR.fr/sceneSegment_AFE86003...     54   57   \n",
       "4    http://www.campus-AAR.fr/sceneSegment_AFE86003...    255  256   \n",
       "..                                                 ...    ...  ...   \n",
       "211  http://www.campus-AAR.fr/sceneSegment_AFE86004...    506  509   \n",
       "212  http://www.campus-AAR.fr/sceneSegment_AFE86004...    109  112   \n",
       "213  http://www.campus-AAR.fr/sceneSegment_AFE86004...    194  196   \n",
       "214  http://www.campus-AAR.fr/sceneSegment_AFE86004...    677  678   \n",
       "215  http://www.campus-AAR.fr/sceneSegment_AFE86004...     89   90   \n",
       "\n",
       "               person  \n",
       "0    Ben Bella, Ahmed  \n",
       "1    Ben Bella, Ahmed  \n",
       "2    Ben Bella, Ahmed  \n",
       "3    Ben Bella, Ahmed  \n",
       "4    Ben Bella, Ahmed  \n",
       "..                ...  \n",
       "211                 0  \n",
       "212                 0  \n",
       "213                 0  \n",
       "214                 0  \n",
       "215                 0  \n",
       "\n",
       "[216 rows x 6 columns]"
      ]
     },
     "execution_count": 3,
     "metadata": {},
     "output_type": "execute_result"
    }
   ],
   "source": [
    "df_dataset = pd.read_csv('dataset_antract.csv')\n",
    "df_dataset"
   ]
  },
  {
   "cell_type": "code",
   "execution_count": 4,
   "metadata": {},
   "outputs": [
    {
     "data": {
      "text/plain": [
       "198"
      ]
     },
     "execution_count": 4,
     "metadata": {},
     "output_type": "execute_result"
    }
   ],
   "source": [
    "len(df_dataset['segment'].unique())"
   ]
  },
  {
   "cell_type": "markdown",
   "metadata": {},
   "source": [
    "Load computation results (obtained using `bulk_run.py`)"
   ]
  },
  {
   "cell_type": "code",
   "execution_count": 5,
   "metadata": {},
   "outputs": [
    {
     "data": {
      "text/plain": [
       "216"
      ]
     },
     "execution_count": 5,
     "metadata": {},
     "output_type": "execute_result"
    }
   ],
   "source": [
    "with open('./intermediate/results_antract.json', 'r') as f:\n",
    "    results = json.load(f)\n",
    "len(results)"
   ]
  },
  {
   "cell_type": "code",
   "execution_count": 6,
   "metadata": {},
   "outputs": [],
   "source": [
    "clusters = [clusterize.main(clusterize.from_dict(p), confidence_threshold=0.0) for p in results]"
   ]
  },
  {
   "cell_type": "code",
   "execution_count": 7,
   "metadata": {},
   "outputs": [
    {
     "data": {
      "text/html": [
       "<div>\n",
       "<style scoped>\n",
       "    .dataframe tbody tr th:only-of-type {\n",
       "        vertical-align: middle;\n",
       "    }\n",
       "\n",
       "    .dataframe tbody tr th {\n",
       "        vertical-align: top;\n",
       "    }\n",
       "\n",
       "    .dataframe thead th {\n",
       "        text-align: right;\n",
       "    }\n",
       "</style>\n",
       "<table border=\"1\" class=\"dataframe\">\n",
       "  <thead>\n",
       "    <tr style=\"text-align: right;\">\n",
       "      <th></th>\n",
       "      <th>media</th>\n",
       "      <th>url</th>\n",
       "      <th>segment</th>\n",
       "      <th>start</th>\n",
       "      <th>end</th>\n",
       "      <th>person</th>\n",
       "      <th>predicted</th>\n",
       "      <th>confidence</th>\n",
       "    </tr>\n",
       "  </thead>\n",
       "  <tbody>\n",
       "    <tr>\n",
       "      <th>0</th>\n",
       "      <td>http://www.ina.fr/media/AFE86003905</td>\n",
       "      <td>/Media/AF/AFE86003905.mp4</td>\n",
       "      <td>http://www.campus-AAR.fr/sceneSegment_AFE86003...</td>\n",
       "      <td>263</td>\n",
       "      <td>265</td>\n",
       "      <td>Ben Bella, Ahmed</td>\n",
       "      <td>Ahmed Ben Bella</td>\n",
       "      <td>0.907584</td>\n",
       "    </tr>\n",
       "    <tr>\n",
       "      <th>1</th>\n",
       "      <td>http://www.ina.fr/media/AFE86003905</td>\n",
       "      <td>/Media/AF/AFE86003905.mp4</td>\n",
       "      <td>http://www.campus-AAR.fr/sceneSegment_AFE86003...</td>\n",
       "      <td>270</td>\n",
       "      <td>272</td>\n",
       "      <td>Ben Bella, Ahmed</td>\n",
       "      <td>Ahmed Ben Bella</td>\n",
       "      <td>0.760531</td>\n",
       "    </tr>\n",
       "    <tr>\n",
       "      <th>2</th>\n",
       "      <td>http://www.ina.fr/media/AFE86003847</td>\n",
       "      <td>/Media/AF/AFE86003847.mp4</td>\n",
       "      <td>http://www.campus-AAR.fr/sceneSegment_AFE86003...</td>\n",
       "      <td>185</td>\n",
       "      <td>188</td>\n",
       "      <td>Ben Bella, Ahmed</td>\n",
       "      <td>Ahmed Ben Bella</td>\n",
       "      <td>0.750289</td>\n",
       "    </tr>\n",
       "    <tr>\n",
       "      <th>3</th>\n",
       "      <td>http://www.ina.fr/media/AFE86003840</td>\n",
       "      <td>/Media/AF/AFE86003840.mp4</td>\n",
       "      <td>http://www.campus-AAR.fr/sceneSegment_AFE86003...</td>\n",
       "      <td>54</td>\n",
       "      <td>57</td>\n",
       "      <td>Ben Bella, Ahmed</td>\n",
       "      <td>0.0</td>\n",
       "      <td>0.000000</td>\n",
       "    </tr>\n",
       "    <tr>\n",
       "      <th>4</th>\n",
       "      <td>http://www.ina.fr/media/AFE86003905</td>\n",
       "      <td>/Media/AF/AFE86003905.mp4</td>\n",
       "      <td>http://www.campus-AAR.fr/sceneSegment_AFE86003...</td>\n",
       "      <td>255</td>\n",
       "      <td>256</td>\n",
       "      <td>Ben Bella, Ahmed</td>\n",
       "      <td>0.0</td>\n",
       "      <td>0.000000</td>\n",
       "    </tr>\n",
       "    <tr>\n",
       "      <th>...</th>\n",
       "      <td>...</td>\n",
       "      <td>...</td>\n",
       "      <td>...</td>\n",
       "      <td>...</td>\n",
       "      <td>...</td>\n",
       "      <td>...</td>\n",
       "      <td>...</td>\n",
       "      <td>...</td>\n",
       "    </tr>\n",
       "    <tr>\n",
       "      <th>211</th>\n",
       "      <td>http://www.ina.fr/media/AFE86004878</td>\n",
       "      <td>/Media/AF/AFE86004878.mp4</td>\n",
       "      <td>http://www.campus-AAR.fr/sceneSegment_AFE86004...</td>\n",
       "      <td>506</td>\n",
       "      <td>509</td>\n",
       "      <td>0</td>\n",
       "      <td>0.0</td>\n",
       "      <td>0.000000</td>\n",
       "    </tr>\n",
       "    <tr>\n",
       "      <th>212</th>\n",
       "      <td>http://www.ina.fr/media/AFE86004740</td>\n",
       "      <td>/Media/AF/AFE86004740.mp4</td>\n",
       "      <td>http://www.campus-AAR.fr/sceneSegment_AFE86004...</td>\n",
       "      <td>109</td>\n",
       "      <td>112</td>\n",
       "      <td>0</td>\n",
       "      <td>0.0</td>\n",
       "      <td>0.000000</td>\n",
       "    </tr>\n",
       "    <tr>\n",
       "      <th>213</th>\n",
       "      <td>http://www.ina.fr/media/AFE86004580</td>\n",
       "      <td>/Media/AF/AFE86004580.mp4</td>\n",
       "      <td>http://www.campus-AAR.fr/sceneSegment_AFE86004...</td>\n",
       "      <td>194</td>\n",
       "      <td>196</td>\n",
       "      <td>0</td>\n",
       "      <td>0.0</td>\n",
       "      <td>0.000000</td>\n",
       "    </tr>\n",
       "    <tr>\n",
       "      <th>214</th>\n",
       "      <td>http://www.ina.fr/media/AFE86004419</td>\n",
       "      <td>/Media/AF/AFE86004419.mp4</td>\n",
       "      <td>http://www.campus-AAR.fr/sceneSegment_AFE86004...</td>\n",
       "      <td>677</td>\n",
       "      <td>678</td>\n",
       "      <td>0</td>\n",
       "      <td>Nikita Khrouchtchev</td>\n",
       "      <td>0.780162</td>\n",
       "    </tr>\n",
       "    <tr>\n",
       "      <th>215</th>\n",
       "      <td>http://www.ina.fr/media/AFE86004780</td>\n",
       "      <td>/Media/AF/AFE86004780.mp4</td>\n",
       "      <td>http://www.campus-AAR.fr/sceneSegment_AFE86004...</td>\n",
       "      <td>89</td>\n",
       "      <td>90</td>\n",
       "      <td>0</td>\n",
       "      <td>0.0</td>\n",
       "      <td>0.000000</td>\n",
       "    </tr>\n",
       "  </tbody>\n",
       "</table>\n",
       "<p>216 rows × 8 columns</p>\n",
       "</div>"
      ],
      "text/plain": [
       "                                   media                        url  \\\n",
       "0    http://www.ina.fr/media/AFE86003905  /Media/AF/AFE86003905.mp4   \n",
       "1    http://www.ina.fr/media/AFE86003905  /Media/AF/AFE86003905.mp4   \n",
       "2    http://www.ina.fr/media/AFE86003847  /Media/AF/AFE86003847.mp4   \n",
       "3    http://www.ina.fr/media/AFE86003840  /Media/AF/AFE86003840.mp4   \n",
       "4    http://www.ina.fr/media/AFE86003905  /Media/AF/AFE86003905.mp4   \n",
       "..                                   ...                        ...   \n",
       "211  http://www.ina.fr/media/AFE86004878  /Media/AF/AFE86004878.mp4   \n",
       "212  http://www.ina.fr/media/AFE86004740  /Media/AF/AFE86004740.mp4   \n",
       "213  http://www.ina.fr/media/AFE86004580  /Media/AF/AFE86004580.mp4   \n",
       "214  http://www.ina.fr/media/AFE86004419  /Media/AF/AFE86004419.mp4   \n",
       "215  http://www.ina.fr/media/AFE86004780  /Media/AF/AFE86004780.mp4   \n",
       "\n",
       "                                               segment  start  end  \\\n",
       "0    http://www.campus-AAR.fr/sceneSegment_AFE86003...    263  265   \n",
       "1    http://www.campus-AAR.fr/sceneSegment_AFE86003...    270  272   \n",
       "2    http://www.campus-AAR.fr/sceneSegment_AFE86003...    185  188   \n",
       "3    http://www.campus-AAR.fr/sceneSegment_AFE86003...     54   57   \n",
       "4    http://www.campus-AAR.fr/sceneSegment_AFE86003...    255  256   \n",
       "..                                                 ...    ...  ...   \n",
       "211  http://www.campus-AAR.fr/sceneSegment_AFE86004...    506  509   \n",
       "212  http://www.campus-AAR.fr/sceneSegment_AFE86004...    109  112   \n",
       "213  http://www.campus-AAR.fr/sceneSegment_AFE86004...    194  196   \n",
       "214  http://www.campus-AAR.fr/sceneSegment_AFE86004...    677  678   \n",
       "215  http://www.campus-AAR.fr/sceneSegment_AFE86004...     89   90   \n",
       "\n",
       "               person            predicted  confidence  \n",
       "0    Ben Bella, Ahmed      Ahmed Ben Bella    0.907584  \n",
       "1    Ben Bella, Ahmed      Ahmed Ben Bella    0.760531  \n",
       "2    Ben Bella, Ahmed      Ahmed Ben Bella    0.750289  \n",
       "3    Ben Bella, Ahmed                  0.0    0.000000  \n",
       "4    Ben Bella, Ahmed                  0.0    0.000000  \n",
       "..                ...                  ...         ...  \n",
       "211                 0                  0.0    0.000000  \n",
       "212                 0                  0.0    0.000000  \n",
       "213                 0                  0.0    0.000000  \n",
       "214                 0  Nikita Khrouchtchev    0.780162  \n",
       "215                 0                  0.0    0.000000  \n",
       "\n",
       "[216 rows x 8 columns]"
      ]
     },
     "execution_count": 7,
     "metadata": {},
     "output_type": "execute_result"
    }
   ],
   "source": [
    "l = len(df_dataset)\n",
    "df_dataset['predicted'] = np.zeros(l)\n",
    "df_dataset['confidence'] = np.zeros(l)\n",
    "\n",
    "for i, x in df_dataset.iterrows():\n",
    "    cur = clusters[i]\n",
    "    start = x['start']\n",
    "    end = x['end']\n",
    "    b = np.arange(start, end)\n",
    "    found = False\n",
    "    for c in cur:\n",
    "        a = np.arange(c['start_npt'], c['end_npt'])\n",
    "        if len(np.intersect1d(a,b)) > 0:\n",
    "            df_dataset.loc[i, 'predicted'] = c['name']\n",
    "            df_dataset.loc[i, 'confidence'] = c['confidence']\n",
    "            if x['person'] == c['name']:\n",
    "                break\n",
    "\n",
    "df_dataset"
   ]
  },
  {
   "cell_type": "code",
   "execution_count": 8,
   "metadata": {},
   "outputs": [],
   "source": [
    "df_dataset['label'] = df_dataset['person'].apply(lambda x: model_names[str(x)])"
   ]
  },
  {
   "cell_type": "code",
   "execution_count": 9,
   "metadata": {},
   "outputs": [],
   "source": [
    "classes = [str(p) for p in df_dataset['label'].unique()]\n",
    "\n",
    "def compute_metrics(threshold=0.5):\n",
    "    label = np.array([str(p) for p in df_dataset['label']])\n",
    "    predicted = np.array([str(p['predicted']) if p['confidence'] > threshold else '0' for i, p in df_dataset.iterrows() ])\n",
    "    \n",
    "    return score(label, predicted, labels=classes, zero_division=1)\n",
    "\n",
    "def show_metrics(threshold=0.5):\n",
    "    precision , recall, fscore, support = compute_metrics(threshold)\n",
    "    \n",
    "    dfx = pd.DataFrame()\n",
    "    dfx['index']= classes\n",
    "    dfx['precision'] =  precision\n",
    "    dfx['recall'] =  recall\n",
    "    dfx['fscore'] =  fscore\n",
    "    dfx['support'] =  support\n",
    "\n",
    "    tot = {\n",
    "        'index' : 'tot (excluded 0)',\n",
    "        'precision': np.average(precision[0:-1], weights=support[0:-1]),\n",
    "        'recall' : np.average(recall[0:-1], weights=support[0:-1]),\n",
    "        'fscore' : np.average(fscore[0:-1], weights=support[0:-1]),\n",
    "        'support' : np.sum(support)\n",
    "    }\n",
    "    dfx = dfx.append(pd.DataFrame(tot, index=[7]))\n",
    "    return dfx"
   ]
  },
  {
   "cell_type": "code",
   "execution_count": 10,
   "metadata": {},
   "outputs": [
    {
     "data": {
      "application/vnd.jupyter.widget-view+json": {
       "model_id": "bf56517cefed4128ba2202bb0062c001",
       "version_major": 2,
       "version_minor": 0
      },
      "text/plain": [
       "interactive(children=(FloatSlider(value=0.6, description='threshold', max=1.0, step=0.05), Output()), _dom_cla…"
      ]
     },
     "metadata": {},
     "output_type": "display_data"
    }
   ],
   "source": [
    "widgets.interact(show_metrics, threshold=widgets.FloatSlider(min=0, max=1, step=0.05, value=0.60));"
   ]
  },
  {
   "cell_type": "code",
   "execution_count": 11,
   "metadata": {},
   "outputs": [],
   "source": [
    "precision =[]\n",
    "recall =[]\n",
    "fscore =[]\n",
    "\n",
    "_range = np.arange(0, 0.8, 0.05)\n",
    "for threshold in _range:\n",
    "    p, r, f, support = compute_metrics(threshold)\n",
    "    precision.append(np.average(p[0:-1], weights=support[0:-1]))\n",
    "    recall.append(np.average(r[0:-1], weights=support[0:-1]))\n",
    "    fscore.append(np.average(f[0:-1], weights=support[0:-1]))"
   ]
  },
  {
   "cell_type": "code",
   "execution_count": 12,
   "metadata": {},
   "outputs": [
    {
     "data": {
      "text/plain": [
       "0.5"
      ]
     },
     "execution_count": 12,
     "metadata": {},
     "output_type": "execute_result"
    }
   ],
   "source": [
    "np.argmax(fscore) * 0.05"
   ]
  },
  {
   "cell_type": "code",
   "execution_count": 13,
   "metadata": {},
   "outputs": [
    {
     "data": {
      "image/png": "[encoded data removed]",
      "text/plain": [
       "<Figure size 432x288 with 1 Axes>"
      ]
     },
     "metadata": {
      "needs_background": "light"
     },
     "output_type": "display_data"
    }
   ],
   "source": [
    "import matplotlib.pyplot as plt\n",
    "\n",
    "fig, ax = plt.subplots()  # Create a figure and an axes.\n",
    "ax.plot(_range, precision, label='precision')  # Plot some data on the axes.\n",
    "ax.plot(_range, recall, label='recall')  # Plot more data on the axes...\n",
    "ax.plot(_range, fscore, label='f-score')  # ... and some more.\n",
    "ax.set_xlabel('confidence treshold')  # Add an x-label to the axes.\n",
    "ax.set_ylabel('score')  # Add a y-label to the axes.\n",
    "ax.legend()  # Add a legend\n",
    "plt.savefig('plot/antract_facerec_precision.pdf')  "
   ]
  },
  {
   "cell_type": "markdown",
   "metadata": {},
   "source": [
    "0.5 looks like the best threshold"
   ]
  },
  {
   "cell_type": "code",
   "execution_count": 14,
   "metadata": {},
   "outputs": [
    {
     "data": {
      "text/html": [
       "<div>\n",
       "<style scoped>\n",
       "    .dataframe tbody tr th:only-of-type {\n",
       "        vertical-align: middle;\n",
       "    }\n",
       "\n",
       "    .dataframe tbody tr th {\n",
       "        vertical-align: top;\n",
       "    }\n",
       "\n",
       "    .dataframe thead th {\n",
       "        text-align: right;\n",
       "    }\n",
       "</style>\n",
       "<table border=\"1\" class=\"dataframe\">\n",
       "  <thead>\n",
       "    <tr style=\"text-align: right;\">\n",
       "      <th></th>\n",
       "      <th>index</th>\n",
       "      <th>precision</th>\n",
       "      <th>recall</th>\n",
       "      <th>fscore</th>\n",
       "      <th>support</th>\n",
       "    </tr>\n",
       "  </thead>\n",
       "  <tbody>\n",
       "    <tr>\n",
       "      <th>0</th>\n",
       "      <td>Ahmed Ben Bella</td>\n",
       "      <td>0.700000</td>\n",
       "      <td>0.538462</td>\n",
       "      <td>0.608696</td>\n",
       "      <td>13</td>\n",
       "    </tr>\n",
       "    <tr>\n",
       "      <th>1</th>\n",
       "      <td>François Mitterrand</td>\n",
       "      <td>1.000000</td>\n",
       "      <td>0.384615</td>\n",
       "      <td>0.555556</td>\n",
       "      <td>13</td>\n",
       "    </tr>\n",
       "    <tr>\n",
       "      <th>2</th>\n",
       "      <td>Pierre Mendès France</td>\n",
       "      <td>1.000000</td>\n",
       "      <td>0.153846</td>\n",
       "      <td>0.266667</td>\n",
       "      <td>13</td>\n",
       "    </tr>\n",
       "    <tr>\n",
       "      <th>3</th>\n",
       "      <td>Guy Mollet</td>\n",
       "      <td>0.800000</td>\n",
       "      <td>0.615385</td>\n",
       "      <td>0.695652</td>\n",
       "      <td>13</td>\n",
       "    </tr>\n",
       "    <tr>\n",
       "      <th>4</th>\n",
       "      <td>Georges Bidault</td>\n",
       "      <td>0.300000</td>\n",
       "      <td>0.214286</td>\n",
       "      <td>0.250000</td>\n",
       "      <td>14</td>\n",
       "    </tr>\n",
       "    <tr>\n",
       "      <th>5</th>\n",
       "      <td>Charles De Gaulle</td>\n",
       "      <td>0.692308</td>\n",
       "      <td>0.473684</td>\n",
       "      <td>0.562500</td>\n",
       "      <td>19</td>\n",
       "    </tr>\n",
       "    <tr>\n",
       "      <th>6</th>\n",
       "      <td>Nikita Khrouchtchev</td>\n",
       "      <td>0.400000</td>\n",
       "      <td>0.153846</td>\n",
       "      <td>0.222222</td>\n",
       "      <td>13</td>\n",
       "    </tr>\n",
       "    <tr>\n",
       "      <th>7</th>\n",
       "      <td>Vincent Auriol</td>\n",
       "      <td>0.777778</td>\n",
       "      <td>0.538462</td>\n",
       "      <td>0.636364</td>\n",
       "      <td>13</td>\n",
       "    </tr>\n",
       "    <tr>\n",
       "      <th>8</th>\n",
       "      <td>Konrad Adenauer</td>\n",
       "      <td>0.666667</td>\n",
       "      <td>0.461538</td>\n",
       "      <td>0.545455</td>\n",
       "      <td>13</td>\n",
       "    </tr>\n",
       "    <tr>\n",
       "      <th>9</th>\n",
       "      <td>Dwight Eisenhower</td>\n",
       "      <td>0.666667</td>\n",
       "      <td>0.307692</td>\n",
       "      <td>0.421053</td>\n",
       "      <td>13</td>\n",
       "    </tr>\n",
       "    <tr>\n",
       "      <th>10</th>\n",
       "      <td>Elisabeth II</td>\n",
       "      <td>0.900000</td>\n",
       "      <td>0.642857</td>\n",
       "      <td>0.750000</td>\n",
       "      <td>14</td>\n",
       "    </tr>\n",
       "    <tr>\n",
       "      <th>11</th>\n",
       "      <td>Viatcheslav Molotov</td>\n",
       "      <td>0.666667</td>\n",
       "      <td>0.153846</td>\n",
       "      <td>0.250000</td>\n",
       "      <td>13</td>\n",
       "    </tr>\n",
       "    <tr>\n",
       "      <th>12</th>\n",
       "      <td>Georges Pompidou</td>\n",
       "      <td>0.625000</td>\n",
       "      <td>0.384615</td>\n",
       "      <td>0.476190</td>\n",
       "      <td>13</td>\n",
       "    </tr>\n",
       "    <tr>\n",
       "      <th>13</th>\n",
       "      <td>0</td>\n",
       "      <td>0.284483</td>\n",
       "      <td>0.846154</td>\n",
       "      <td>0.425806</td>\n",
       "      <td>39</td>\n",
       "    </tr>\n",
       "    <tr>\n",
       "      <th>7</th>\n",
       "      <td>tot (excluded 0)</td>\n",
       "      <td>0.705593</td>\n",
       "      <td>0.389831</td>\n",
       "      <td>0.483049</td>\n",
       "      <td>216</td>\n",
       "    </tr>\n",
       "  </tbody>\n",
       "</table>\n",
       "</div>"
      ],
      "text/plain": [
       "                   index  precision    recall    fscore  support\n",
       "0        Ahmed Ben Bella   0.700000  0.538462  0.608696       13\n",
       "1    François Mitterrand   1.000000  0.384615  0.555556       13\n",
       "2   Pierre Mendès France   1.000000  0.153846  0.266667       13\n",
       "3             Guy Mollet   0.800000  0.615385  0.695652       13\n",
       "4        Georges Bidault   0.300000  0.214286  0.250000       14\n",
       "5      Charles De Gaulle   0.692308  0.473684  0.562500       19\n",
       "6    Nikita Khrouchtchev   0.400000  0.153846  0.222222       13\n",
       "7         Vincent Auriol   0.777778  0.538462  0.636364       13\n",
       "8        Konrad Adenauer   0.666667  0.461538  0.545455       13\n",
       "9      Dwight Eisenhower   0.666667  0.307692  0.421053       13\n",
       "10          Elisabeth II   0.900000  0.642857  0.750000       14\n",
       "11   Viatcheslav Molotov   0.666667  0.153846  0.250000       13\n",
       "12      Georges Pompidou   0.625000  0.384615  0.476190       13\n",
       "13                     0   0.284483  0.846154  0.425806       39\n",
       "7       tot (excluded 0)   0.705593  0.389831  0.483049      216"
      ]
     },
     "execution_count": 14,
     "metadata": {},
     "output_type": "execute_result"
    }
   ],
   "source": [
    "show_metrics(0.5)"
   ]
  },
  {
   "cell_type": "code",
   "execution_count": 15,
   "metadata": {},
   "outputs": [],
   "source": [
    "with open('plot/latex_antract.txt', 'w') as f:\n",
    "    show_metrics(0.6).to_latex(f, index=False)"
   ]
  },
  {
   "cell_type": "code",
   "execution_count": 18,
   "metadata": {},
   "outputs": [],
   "source": [
    "with open('queries/antract_year_by_media.rq', 'r') as f:\n",
    "    query = f.read()"
   ]
  },
  {
   "cell_type": "code",
   "execution_count": 22,
   "metadata": {},
   "outputs": [],
   "source": [
    "from SPARQLWrapper import SPARQLWrapper, JSON\n",
    "\n",
    "ENDPOINT = \"https://okapi.ina.fr/antract/api/saphir/sparql_search\"\n",
    "sparql = SPARQLWrapper(ENDPOINT)\n",
    "sparql.setReturnFormat(JSON)"
   ]
  },
  {
   "cell_type": "code",
   "execution_count": 38,
   "metadata": {},
   "outputs": [],
   "source": [
    "def get_year(media):\n",
    "    q = query.replace('?media', f\"<{media}>\")\n",
    "    sparql.setQuery(q)\n",
    "    results = sparql.query().convert()[\"results\"][\"bindings\"]\n",
    "    date = results[0]['date']['value']\n",
    "    return int(date[0:4])\n",
    "\n",
    "df_dataset[\"year\"] = df_dataset[\"media\"].apply(get_year)"
   ]
  },
  {
   "cell_type": "code",
   "execution_count": 39,
   "metadata": {},
   "outputs": [
    {
     "data": {
      "application/vnd.jupyter.widget-view+json": {
       "model_id": "2cc6b78cb24340a48168fa4cd71f91ae",
       "version_major": 2,
       "version_minor": 0
      },
      "text/plain": [
       "interactive(children=(Dropdown(description='Person:', options=('Ahmed Ben Bella', 'François Mitterrand', 'Pier…"
      ]
     },
     "metadata": {},
     "output_type": "display_data"
    }
   ],
   "source": [
    "def filter_by(prop):\n",
    "    def filter_with(what):\n",
    "        return df_dataset[df_dataset[prop] == what]\n",
    "    return filter_with\n",
    "    \n",
    "widgets.interact(filter_by('label'), what=widgets.Dropdown(\n",
    "    options=df_dataset['label'].unique(),\n",
    "    description='Person:',\n",
    "));"
   ]
  },
  {
   "cell_type": "code",
   "execution_count": 40,
   "metadata": {},
   "outputs": [
    {
     "name": "stdout",
     "output_type": "stream",
     "text": [
      "- Ahmed Ben Bella : 1962\n",
      "- François Mitterrand : 1961\n",
      "- Pierre Mendès France : 1958\n",
      "- Guy Mollet : 1956\n",
      "- Georges Bidault : 1950\n",
      "- Charles De Gaulle : 1962\n",
      "- Nikita Khrouchtchev : 1959\n",
      "- Vincent Auriol : 1953\n",
      "- Konrad Adenauer : 1959\n",
      "- Dwight Eisenhower : 1953\n",
      "- Elisabeth II : 1948\n",
      "- Viatcheslav Molotov : 1951\n",
      "- Georges Pompidou : 1965\n",
      "- 0 : 1957\n"
     ]
    }
   ],
   "source": [
    "for x in df_dataset['label'].unique():\n",
    "    d = filter_by('label')(x)\n",
    "    print('- %s : %2.f' % (x, d[\"year\"].mean()))"
   ]
  },
  {
   "cell_type": "code",
   "execution_count": null,
   "metadata": {},
   "outputs": [],
   "source": []
  }
 ],
 "metadata": {
  "kernelspec": {
   "display_name": "Python 3",
   "language": "python",
   "name": "python3"
  },
  "language_info": {
   "codemirror_mode": {
    "name": "ipython",
    "version": 3
   },
   "file_extension": ".py",
   "mimetype": "text/x-python",
   "name": "python",
   "nbconvert_exporter": "python",
   "pygments_lexer": "ipython3",
   "version": "3.7.7"
  }
 },
 "nbformat": 4,
 "nbformat_minor": 1
}
